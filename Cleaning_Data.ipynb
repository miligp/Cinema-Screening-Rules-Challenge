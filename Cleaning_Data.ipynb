{
 "cells": [
  {
   "cell_type": "markdown",
   "metadata": {},
   "source": [
    "### Understand the Data"
   ]
  },
  {
   "cell_type": "code",
   "execution_count": 42,
   "metadata": {},
   "outputs": [],
   "source": [
    "import pandas as pd \n",
    "\n",
    "df_movies = pd.read_csv('movies.csv', header = 0)\n",
    "df_ps = pd.read_csv('past_screenings.csv', header = 0)\n"
   ]
  },
  {
   "cell_type": "code",
   "execution_count": 43,
   "metadata": {},
   "outputs": [
    {
     "data": {
      "text/html": [
       "<div>\n",
       "<style scoped>\n",
       "    .dataframe tbody tr th:only-of-type {\n",
       "        vertical-align: middle;\n",
       "    }\n",
       "\n",
       "    .dataframe tbody tr th {\n",
       "        vertical-align: top;\n",
       "    }\n",
       "\n",
       "    .dataframe thead th {\n",
       "        text-align: right;\n",
       "    }\n",
       "</style>\n",
       "<table border=\"1\" class=\"dataframe\">\n",
       "  <thead>\n",
       "    <tr style=\"text-align: right;\">\n",
       "      <th></th>\n",
       "      <th>id</th>\n",
       "      <th>movie</th>\n",
       "      <th>year</th>\n",
       "      <th>genre</th>\n",
       "      <th>duration</th>\n",
       "      <th>country</th>\n",
       "      <th>director</th>\n",
       "      <th>humor</th>\n",
       "      <th>rhythm</th>\n",
       "      <th>effort</th>\n",
       "      <th>tension</th>\n",
       "      <th>vote</th>\n",
       "      <th>avg_vote</th>\n",
       "    </tr>\n",
       "  </thead>\n",
       "  <tbody>\n",
       "    <tr>\n",
       "      <th>0</th>\n",
       "      <td>71</td>\n",
       "      <td>Charlie Muffin</td>\n",
       "      <td>1979.0</td>\n",
       "      <td>Spy</td>\n",
       "      <td>109.0</td>\n",
       "      <td>Great Britain</td>\n",
       "      <td>Jack Gold</td>\n",
       "      <td>1.0</td>\n",
       "      <td>2.0</td>\n",
       "      <td>1.0</td>\n",
       "      <td>3.0</td>\n",
       "      <td>6.0</td>\n",
       "      <td>13.0</td>\n",
       "    </tr>\n",
       "    <tr>\n",
       "      <th>1</th>\n",
       "      <td>78</td>\n",
       "      <td>Absolute Beginners</td>\n",
       "      <td>1986.0</td>\n",
       "      <td>Musical</td>\n",
       "      <td>100.0</td>\n",
       "      <td>Great Britain</td>\n",
       "      <td>Julien Temple</td>\n",
       "      <td>1.0</td>\n",
       "      <td>2.0</td>\n",
       "      <td>0.0</td>\n",
       "      <td>2.0</td>\n",
       "      <td>6.0</td>\n",
       "      <td>31.0</td>\n",
       "    </tr>\n",
       "    <tr>\n",
       "      <th>2</th>\n",
       "      <td>94</td>\n",
       "      <td>Arrêt sur image</td>\n",
       "      <td>1987.0</td>\n",
       "      <td>Drama</td>\n",
       "      <td>77.0</td>\n",
       "      <td>France</td>\n",
       "      <td>Christine Allen</td>\n",
       "      <td>0.0</td>\n",
       "      <td>1.0</td>\n",
       "      <td>1.0</td>\n",
       "      <td>0.0</td>\n",
       "      <td>4.0</td>\n",
       "      <td>4.0</td>\n",
       "    </tr>\n",
       "    <tr>\n",
       "      <th>3</th>\n",
       "      <td>97</td>\n",
       "      <td>Water</td>\n",
       "      <td>1985.0</td>\n",
       "      <td>Grotesque</td>\n",
       "      <td>97.0</td>\n",
       "      <td>Great Britain</td>\n",
       "      <td>Dick Clement</td>\n",
       "      <td>2.0</td>\n",
       "      <td>3.0</td>\n",
       "      <td>0.0</td>\n",
       "      <td>1.0</td>\n",
       "      <td>6.0</td>\n",
       "      <td>5.0</td>\n",
       "    </tr>\n",
       "    <tr>\n",
       "      <th>4</th>\n",
       "      <td>109</td>\n",
       "      <td>Adam and Evelyne</td>\n",
       "      <td>1949.0</td>\n",
       "      <td>Comedy</td>\n",
       "      <td>92.0</td>\n",
       "      <td>Great Britain</td>\n",
       "      <td>Harold French</td>\n",
       "      <td>1.0</td>\n",
       "      <td>2.0</td>\n",
       "      <td>1.0</td>\n",
       "      <td>0.0</td>\n",
       "      <td>6.0</td>\n",
       "      <td>11.0</td>\n",
       "    </tr>\n",
       "  </tbody>\n",
       "</table>\n",
       "</div>"
      ],
      "text/plain": [
       "    id               movie    year      genre  duration        country  \\\n",
       "0   71      Charlie Muffin  1979.0        Spy     109.0  Great Britain   \n",
       "1   78  Absolute Beginners  1986.0    Musical     100.0  Great Britain   \n",
       "2   94     Arrêt sur image  1987.0      Drama      77.0         France   \n",
       "3   97               Water  1985.0  Grotesque      97.0  Great Britain   \n",
       "4  109    Adam and Evelyne  1949.0     Comedy      92.0  Great Britain   \n",
       "\n",
       "          director  humor  rhythm  effort  tension  vote  avg_vote  \n",
       "0        Jack Gold    1.0     2.0     1.0      3.0   6.0      13.0  \n",
       "1    Julien Temple    1.0     2.0     0.0      2.0   6.0      31.0  \n",
       "2  Christine Allen    0.0     1.0     1.0      0.0   4.0       4.0  \n",
       "3     Dick Clement    2.0     3.0     0.0      1.0   6.0       5.0  \n",
       "4    Harold French    1.0     2.0     1.0      0.0   6.0      11.0  "
      ]
     },
     "execution_count": 43,
     "metadata": {},
     "output_type": "execute_result"
    }
   ],
   "source": [
    "df_movies.head()"
   ]
  },
  {
   "cell_type": "code",
   "execution_count": 44,
   "metadata": {},
   "outputs": [
    {
     "data": {
      "text/html": [
       "<div>\n",
       "<style scoped>\n",
       "    .dataframe tbody tr th:only-of-type {\n",
       "        vertical-align: middle;\n",
       "    }\n",
       "\n",
       "    .dataframe tbody tr th {\n",
       "        vertical-align: top;\n",
       "    }\n",
       "\n",
       "    .dataframe thead th {\n",
       "        text-align: right;\n",
       "    }\n",
       "</style>\n",
       "<table border=\"1\" class=\"dataframe\">\n",
       "  <thead>\n",
       "    <tr style=\"text-align: right;\">\n",
       "      <th></th>\n",
       "      <th>week</th>\n",
       "      <th>day</th>\n",
       "      <th>room</th>\n",
       "      <th>screening</th>\n",
       "      <th>movie</th>\n",
       "    </tr>\n",
       "  </thead>\n",
       "  <tbody>\n",
       "    <tr>\n",
       "      <th>0</th>\n",
       "      <td>0</td>\n",
       "      <td>0</td>\n",
       "      <td>0</td>\n",
       "      <td>0</td>\n",
       "      <td>Wallander: Skytten</td>\n",
       "    </tr>\n",
       "    <tr>\n",
       "      <th>1</th>\n",
       "      <td>0</td>\n",
       "      <td>0</td>\n",
       "      <td>0</td>\n",
       "      <td>1</td>\n",
       "      <td>Canola</td>\n",
       "    </tr>\n",
       "    <tr>\n",
       "      <th>2</th>\n",
       "      <td>0</td>\n",
       "      <td>0</td>\n",
       "      <td>0</td>\n",
       "      <td>2</td>\n",
       "      <td>Guns Akimbo</td>\n",
       "    </tr>\n",
       "    <tr>\n",
       "      <th>3</th>\n",
       "      <td>0</td>\n",
       "      <td>0</td>\n",
       "      <td>1</td>\n",
       "      <td>3</td>\n",
       "      <td>La mano de un hombre muerto</td>\n",
       "    </tr>\n",
       "    <tr>\n",
       "      <th>4</th>\n",
       "      <td>0</td>\n",
       "      <td>0</td>\n",
       "      <td>1</td>\n",
       "      <td>4</td>\n",
       "      <td>Vendetta for the Saint</td>\n",
       "    </tr>\n",
       "  </tbody>\n",
       "</table>\n",
       "</div>"
      ],
      "text/plain": [
       "   week  day  room  screening                        movie\n",
       "0     0    0     0          0           Wallander: Skytten\n",
       "1     0    0     0          1                       Canola\n",
       "2     0    0     0          2                  Guns Akimbo\n",
       "3     0    0     1          3  La mano de un hombre muerto\n",
       "4     0    0     1          4       Vendetta for the Saint"
      ]
     },
     "execution_count": 44,
     "metadata": {},
     "output_type": "execute_result"
    }
   ],
   "source": [
    "df_ps.head()"
   ]
  },
  {
   "cell_type": "code",
   "execution_count": 45,
   "metadata": {},
   "outputs": [
    {
     "name": "stdout",
     "output_type": "stream",
     "text": [
      "<class 'pandas.core.frame.DataFrame'>\n",
      "RangeIndex: 5794 entries, 0 to 5793\n",
      "Data columns (total 13 columns):\n",
      " #   Column    Non-Null Count  Dtype  \n",
      "---  ------    --------------  -----  \n",
      " 0   id        5794 non-null   object \n",
      " 1   movie     5793 non-null   object \n",
      " 2   year      5793 non-null   float64\n",
      " 3   genre     5780 non-null   object \n",
      " 4   duration  5793 non-null   float64\n",
      " 5   country   5793 non-null   object \n",
      " 6   director  5793 non-null   object \n",
      " 7   humor     5793 non-null   float64\n",
      " 8   rhythm    5793 non-null   float64\n",
      " 9   effort    5793 non-null   float64\n",
      " 10  tension   5793 non-null   float64\n",
      " 11  vote      5793 non-null   float64\n",
      " 12  avg_vote  5793 non-null   float64\n",
      "dtypes: float64(8), object(5)\n",
      "memory usage: 588.6+ KB\n",
      "<class 'pandas.core.frame.DataFrame'>\n",
      "RangeIndex: 20000 entries, 0 to 19999\n",
      "Data columns (total 5 columns):\n",
      " #   Column     Non-Null Count  Dtype \n",
      "---  ------     --------------  ----- \n",
      " 0   week       20000 non-null  int64 \n",
      " 1   day        20000 non-null  int64 \n",
      " 2   room       20000 non-null  int64 \n",
      " 3   screening  20000 non-null  int64 \n",
      " 4   movie      20000 non-null  object\n",
      "dtypes: int64(4), object(1)\n",
      "memory usage: 781.4+ KB\n"
     ]
    }
   ],
   "source": [
    "df_movies.info()\n",
    "df_ps.info()"
   ]
  },
  {
   "cell_type": "code",
   "execution_count": 46,
   "metadata": {},
   "outputs": [
    {
     "name": "stdout",
     "output_type": "stream",
     "text": [
      "<class 'pandas.core.frame.DataFrame'>\n",
      "RangeIndex: 20000 entries, 0 to 19999\n",
      "Data columns (total 5 columns):\n",
      " #   Column     Non-Null Count  Dtype \n",
      "---  ------     --------------  ----- \n",
      " 0   week       20000 non-null  int64 \n",
      " 1   day        20000 non-null  int64 \n",
      " 2   room       20000 non-null  int64 \n",
      " 3   screening  20000 non-null  int64 \n",
      " 4   movie      20000 non-null  object\n",
      "dtypes: int64(4), object(1)\n",
      "memory usage: 781.4+ KB\n"
     ]
    }
   ],
   "source": [
    "df_ps.info()"
   ]
  },
  {
   "cell_type": "markdown",
   "metadata": {},
   "source": [
    "## Clean the Data"
   ]
  },
  {
   "cell_type": "markdown",
   "metadata": {},
   "source": [
    "##### Détection d observations identiques : code "
   ]
  },
  {
   "cell_type": "code",
   "execution_count": 82,
   "metadata": {},
   "outputs": [],
   "source": [
    "dp_movie = df_movies.duplicated()\n",
    "dp_ps = df_ps.duplicated()"
   ]
  },
  {
   "cell_type": "code",
   "execution_count": 83,
   "metadata": {},
   "outputs": [
    {
     "data": {
      "text/plain": [
       "np.False_"
      ]
     },
     "execution_count": 83,
     "metadata": {},
     "output_type": "execute_result"
    }
   ],
   "source": [
    "dp_movie.any() # no duplicates"
   ]
  },
  {
   "cell_type": "code",
   "execution_count": 84,
   "metadata": {},
   "outputs": [
    {
     "data": {
      "text/plain": [
       "np.False_"
      ]
     },
     "execution_count": 84,
     "metadata": {},
     "output_type": "execute_result"
    }
   ],
   "source": [
    "dp_ps.any() #no duplicates"
   ]
  },
  {
   "cell_type": "code",
   "execution_count": 85,
   "metadata": {},
   "outputs": [
    {
     "data": {
      "text/html": [
       "<div>\n",
       "<style scoped>\n",
       "    .dataframe tbody tr th:only-of-type {\n",
       "        vertical-align: middle;\n",
       "    }\n",
       "\n",
       "    .dataframe tbody tr th {\n",
       "        vertical-align: top;\n",
       "    }\n",
       "\n",
       "    .dataframe thead th {\n",
       "        text-align: right;\n",
       "    }\n",
       "</style>\n",
       "<table border=\"1\" class=\"dataframe\">\n",
       "  <thead>\n",
       "    <tr style=\"text-align: right;\">\n",
       "      <th></th>\n",
       "      <th>week</th>\n",
       "      <th>day</th>\n",
       "      <th>room</th>\n",
       "      <th>screening</th>\n",
       "      <th>movie</th>\n",
       "    </tr>\n",
       "  </thead>\n",
       "  <tbody>\n",
       "  </tbody>\n",
       "</table>\n",
       "</div>"
      ],
      "text/plain": [
       "Empty DataFrame\n",
       "Columns: [week, day, room, screening, movie]\n",
       "Index: []"
      ]
     },
     "execution_count": 85,
     "metadata": {},
     "output_type": "execute_result"
    }
   ],
   "source": [
    "df_movies[dp_movie] #no duplicates\n",
    "df_ps[dp_ps] #no duplicates"
   ]
  },
  {
   "cell_type": "markdown",
   "metadata": {},
   "source": [
    "##### Vérifier les valeurs manquantes"
   ]
  },
  {
   "cell_type": "code",
   "execution_count": 86,
   "metadata": {},
   "outputs": [
    {
     "data": {
      "text/plain": [
       "id          0\n",
       "movie       1\n",
       "year        1\n",
       "genre       1\n",
       "duration    1\n",
       "country     1\n",
       "director    1\n",
       "humor       1\n",
       "rhythm      1\n",
       "effort      1\n",
       "tension     1\n",
       "vote        1\n",
       "avg_vote    1\n",
       "dtype: int64"
      ]
     },
     "execution_count": 86,
     "metadata": {},
     "output_type": "execute_result"
    }
   ],
   "source": [
    "df_movies.isnull().sum() "
   ]
  },
  {
   "cell_type": "code",
   "execution_count": 87,
   "metadata": {},
   "outputs": [
    {
     "data": {
      "text/plain": [
       "week         0\n",
       "day          0\n",
       "room         0\n",
       "screening    0\n",
       "movie        0\n",
       "dtype: int64"
      ]
     },
     "execution_count": 87,
     "metadata": {},
     "output_type": "execute_result"
    }
   ],
   "source": [
    "df_ps.isnull().sum()"
   ]
  },
  {
   "cell_type": "code",
   "execution_count": 88,
   "metadata": {},
   "outputs": [
    {
     "data": {
      "text/html": [
       "<div>\n",
       "<style scoped>\n",
       "    .dataframe tbody tr th:only-of-type {\n",
       "        vertical-align: middle;\n",
       "    }\n",
       "\n",
       "    .dataframe tbody tr th {\n",
       "        vertical-align: top;\n",
       "    }\n",
       "\n",
       "    .dataframe thead th {\n",
       "        text-align: right;\n",
       "    }\n",
       "</style>\n",
       "<table border=\"1\" class=\"dataframe\">\n",
       "  <thead>\n",
       "    <tr style=\"text-align: right;\">\n",
       "      <th></th>\n",
       "      <th>id</th>\n",
       "      <th>movie</th>\n",
       "      <th>year</th>\n",
       "      <th>genre</th>\n",
       "      <th>duration</th>\n",
       "      <th>country</th>\n",
       "      <th>director</th>\n",
       "      <th>humor</th>\n",
       "      <th>rhythm</th>\n",
       "      <th>effort</th>\n",
       "      <th>tension</th>\n",
       "      <th>vote</th>\n",
       "      <th>avg_vote</th>\n",
       "    </tr>\n",
       "  </thead>\n",
       "  <tbody>\n",
       "    <tr>\n",
       "      <th>3361</th>\n",
       "      <td>49576,\"\"\"Sherlock\"\" The Great Game\",2010,Thril...</td>\n",
       "      <td>NaN</td>\n",
       "      <td>NaN</td>\n",
       "      <td>NaN</td>\n",
       "      <td>NaN</td>\n",
       "      <td>NaN</td>\n",
       "      <td>NaN</td>\n",
       "      <td>NaN</td>\n",
       "      <td>NaN</td>\n",
       "      <td>NaN</td>\n",
       "      <td>NaN</td>\n",
       "      <td>NaN</td>\n",
       "      <td>NaN</td>\n",
       "    </tr>\n",
       "  </tbody>\n",
       "</table>\n",
       "</div>"
      ],
      "text/plain": [
       "                                                     id movie  year genre  \\\n",
       "3361  49576,\"\"\"Sherlock\"\" The Great Game\",2010,Thril...   NaN   NaN   NaN   \n",
       "\n",
       "      duration country director  humor  rhythm  effort  tension  vote  \\\n",
       "3361       NaN     NaN      NaN    NaN     NaN     NaN      NaN   NaN   \n",
       "\n",
       "      avg_vote  \n",
       "3361       NaN  "
      ]
     },
     "execution_count": 88,
     "metadata": {},
     "output_type": "execute_result"
    }
   ],
   "source": [
    "missing_rows = df_movies[df_movies.isnull().any(axis=1)]\n",
    "missing_rows"
   ]
  },
  {
   "cell_type": "code",
   "execution_count": 89,
   "metadata": {},
   "outputs": [
    {
     "data": {
      "text/plain": [
       "id                       23892\n",
       "movie       Monsieur Batignole\n",
       "year                    2002.0\n",
       "genre                   Comedy\n",
       "duration                 100.0\n",
       "country                 France\n",
       "director         Gérard Jugnot\n",
       "humor                      2.0\n",
       "rhythm                     3.0\n",
       "effort                     4.0\n",
       "tension                    3.0\n",
       "vote                       7.0\n",
       "avg_vote                  37.0\n",
       "Name: 1745, dtype: object"
      ]
     },
     "execution_count": 89,
     "metadata": {},
     "output_type": "execute_result"
    }
   ],
   "source": [
    "df_movies.loc[1745, 'genre'] = \"Comedy\"\n",
    "df_movies.loc[1745]"
   ]
  },
  {
   "cell_type": "code",
   "execution_count": 90,
   "metadata": {},
   "outputs": [
    {
     "data": {
      "text/plain": [
       "id                       24792\n",
       "movie              Bord de mer\n",
       "year                    2002.0\n",
       "genre                    Drama\n",
       "duration                  90.0\n",
       "country                 France\n",
       "director    Julie Lopes-Curval\n",
       "humor                      3.0\n",
       "rhythm                     3.0\n",
       "effort                     2.0\n",
       "tension                    2.0\n",
       "vote                       6.0\n",
       "avg_vote                  11.0\n",
       "Name: 1793, dtype: object"
      ]
     },
     "execution_count": 90,
     "metadata": {},
     "output_type": "execute_result"
    }
   ],
   "source": [
    "df_movies.loc[1793, 'genre'] = \"Drama\"\n",
    "df_movies.loc[1793]"
   ]
  },
  {
   "cell_type": "code",
   "execution_count": 91,
   "metadata": {},
   "outputs": [
    {
     "data": {
      "text/plain": [
       "id                  36267\n",
       "movie       Pumhaeng zero\n",
       "year               2002.0\n",
       "genre              Comedy\n",
       "duration             99.0\n",
       "country       South Korea\n",
       "director     Jo Geun-shik\n",
       "humor                 1.0\n",
       "rhythm                2.0\n",
       "effort                1.0\n",
       "tension               1.0\n",
       "vote                  6.0\n",
       "avg_vote              3.0\n",
       "Name: 2502, dtype: object"
      ]
     },
     "execution_count": 91,
     "metadata": {},
     "output_type": "execute_result"
    }
   ],
   "source": [
    "df_movies.loc[2502, 'genre'] = \"Comedy\"\n",
    "df_movies.loc[2502]"
   ]
  },
  {
   "cell_type": "code",
   "execution_count": 92,
   "metadata": {},
   "outputs": [
    {
     "name": "stdout",
     "output_type": "stream",
     "text": [
      "Index(['id', 'movie', 'year', 'genre', 'duration', 'country', 'director',\n",
      "       'humor', 'rhythm', 'effort', 'tension', 'vote', 'avg_vote'],\n",
      "      dtype='object')\n"
     ]
    }
   ],
   "source": [
    "# Afficher les colonnes du DataFrame\n",
    "print(df_movies.columns)"
   ]
  },
  {
   "cell_type": "code",
   "execution_count": 93,
   "metadata": {},
   "outputs": [
    {
     "name": "stdout",
     "output_type": "stream",
     "text": [
      "Column 'date' does not exist in the dataframe.\n"
     ]
    }
   ],
   "source": [
    "if 'date' in df_movies.columns:\n",
    "\tdf_movies = df_movies.drop('date', axis=1)\n",
    "else:\n",
    "\tprint(\"Column 'date' does not exist in the dataframe.\")"
   ]
  },
  {
   "cell_type": "code",
   "execution_count": 94,
   "metadata": {},
   "outputs": [
    {
     "data": {
      "text/plain": [
       "id                  36267\n",
       "movie       Pumhaeng zero\n",
       "year               2002.0\n",
       "genre              Comedy\n",
       "duration             99.0\n",
       "country       South Korea\n",
       "director     Jo Geun-shik\n",
       "humor                 1.0\n",
       "rhythm                2.0\n",
       "effort                1.0\n",
       "tension               1.0\n",
       "vote                  6.0\n",
       "avg_vote              3.0\n",
       "Name: 2502, dtype: object"
      ]
     },
     "execution_count": 94,
     "metadata": {},
     "output_type": "execute_result"
    }
   ],
   "source": [
    "df_movies.loc[2502]"
   ]
  },
  {
   "cell_type": "code",
   "execution_count": 95,
   "metadata": {},
   "outputs": [
    {
     "data": {
      "text/plain": [
       "id                           37261\n",
       "movie       En la ciudad de Sylvia\n",
       "year                        2007.0\n",
       "genre                        Drama\n",
       "duration                      90.0\n",
       "country                      Spain\n",
       "director          José Luis Guerín\n",
       "humor                          0.0\n",
       "rhythm                         0.0\n",
       "effort                         0.0\n",
       "tension                        0.0\n",
       "vote                           3.0\n",
       "avg_vote                       4.0\n",
       "Name: 2563, dtype: object"
      ]
     },
     "execution_count": 95,
     "metadata": {},
     "output_type": "execute_result"
    }
   ],
   "source": [
    "df_movies.loc[2563, 'genre'] = \"Drama\"\n",
    "df_movies.loc[2563]"
   ]
  },
  {
   "cell_type": "code",
   "execution_count": 96,
   "metadata": {},
   "outputs": [
    {
     "data": {
      "text/plain": [
       "id                     37724\n",
       "movie       A vot' bon coeur\n",
       "year                  2004.0\n",
       "genre                 Comedy\n",
       "duration                93.0\n",
       "country               France\n",
       "director      Paul Vecchiali\n",
       "humor                    2.0\n",
       "rhythm                   2.0\n",
       "effort                   1.0\n",
       "tension                  2.0\n",
       "vote                     6.0\n",
       "avg_vote                 8.0\n",
       "Name: 2586, dtype: object"
      ]
     },
     "execution_count": 96,
     "metadata": {},
     "output_type": "execute_result"
    }
   ],
   "source": [
    "df_movies.loc[2586, 'genre'] = \"Comedy\"\n",
    "df_movies.loc[2586]"
   ]
  },
  {
   "cell_type": "code",
   "execution_count": 97,
   "metadata": {},
   "outputs": [
    {
     "data": {
      "text/plain": [
       "id                     38479\n",
       "movie           De la guerre\n",
       "year                  2007.0\n",
       "genre                  Drama\n",
       "duration               130.0\n",
       "country               France\n",
       "director    Bertrand Bonello\n",
       "humor                    2.0\n",
       "rhythm                   2.0\n",
       "effort                   3.0\n",
       "tension                  2.0\n",
       "vote                     7.0\n",
       "avg_vote                13.0\n",
       "Name: 2652, dtype: object"
      ]
     },
     "execution_count": 97,
     "metadata": {},
     "output_type": "execute_result"
    }
   ],
   "source": [
    "df_movies.loc[2652, 'genre'] = \"Drama\"\n",
    "df_movies.loc[2652]\t"
   ]
  },
  {
   "cell_type": "code",
   "execution_count": 98,
   "metadata": {},
   "outputs": [
    {
     "data": {
      "text/plain": [
       "id                   40007\n",
       "movie                Ander\n",
       "year                2009.0\n",
       "genre                Drama\n",
       "duration             128.0\n",
       "country              Spain\n",
       "director    Roberto Castón\n",
       "humor                  0.0\n",
       "rhythm                 0.0\n",
       "effort                 0.0\n",
       "tension                0.0\n",
       "vote                   7.0\n",
       "avg_vote              14.0\n",
       "Name: 2781, dtype: object"
      ]
     },
     "execution_count": 98,
     "metadata": {},
     "output_type": "execute_result"
    }
   ],
   "source": [
    "df_movies.loc[2781, 'genre'] = \"Drama\"\n",
    "df_movies.loc[2781]\t"
   ]
  },
  {
   "cell_type": "code",
   "execution_count": 99,
   "metadata": {},
   "outputs": [
    {
     "data": {
      "text/plain": [
       "id                                           41265\n",
       "movie       Bancs publics (Versailles rive droite)\n",
       "year                                        2009.0\n",
       "genre                                        Drama\n",
       "duration                                     110.0\n",
       "country                                     France\n",
       "director                           Bruno Podalydès\n",
       "humor                                          0.0\n",
       "rhythm                                         0.0\n",
       "effort                                         0.0\n",
       "tension                                        0.0\n",
       "vote                                           6.0\n",
       "avg_vote                                       3.0\n",
       "Name: 2902, dtype: object"
      ]
     },
     "execution_count": 99,
     "metadata": {},
     "output_type": "execute_result"
    }
   ],
   "source": [
    "df_movies.loc[2902, 'genre'] = \"Drama\"\n",
    "df_movies.loc[2902]\t"
   ]
  },
  {
   "cell_type": "code",
   "execution_count": 100,
   "metadata": {},
   "outputs": [
    {
     "data": {
      "text/plain": [
       "id                      42145\n",
       "movie       L'arroseur arrosé\n",
       "year                   1897.0\n",
       "genre                  Comedy\n",
       "duration                 49.0\n",
       "country                France\n",
       "director            Alice Guy\n",
       "humor                     0.0\n",
       "rhythm                    0.0\n",
       "effort                    0.0\n",
       "tension                   0.0\n",
       "vote                      6.0\n",
       "avg_vote                 12.0\n",
       "Name: 2973, dtype: object"
      ]
     },
     "execution_count": 100,
     "metadata": {},
     "output_type": "execute_result"
    }
   ],
   "source": [
    "df_movies.loc[2973, 'genre'] = \"Comedy\"\n",
    "df_movies.loc[2973]"
   ]
  },
  {
   "cell_type": "code",
   "execution_count": 101,
   "metadata": {},
   "outputs": [
    {
     "data": {
      "text/plain": [
       "id                                               42646\n",
       "movie       Histoire(s) du cinéma: Une histoire seule \n",
       "year                                            1989.0\n",
       "genre                                      Documentary\n",
       "duration                                          42.0\n",
       "country                                         France\n",
       "director                               Jean-Luc Godard\n",
       "humor                                              0.0\n",
       "rhythm                                             0.0\n",
       "effort                                             0.0\n",
       "tension                                            0.0\n",
       "vote                                               8.0\n",
       "avg_vote                                           7.0\n",
       "Name: 3017, dtype: object"
      ]
     },
     "execution_count": 101,
     "metadata": {},
     "output_type": "execute_result"
    }
   ],
   "source": [
    "df_movies.loc[3017, 'genre'] = \"Documentary\"\n",
    "df_movies.loc[3017]"
   ]
  },
  {
   "cell_type": "code",
   "execution_count": 102,
   "metadata": {},
   "outputs": [
    {
     "data": {
      "text/plain": [
       "id                    43546\n",
       "movie          Snabba Cash \n",
       "year                 2010.0\n",
       "genre                 Crime\n",
       "duration              124.0\n",
       "country              Sweden\n",
       "director    Daniel Espinosa\n",
       "humor                   0.0\n",
       "rhythm                  0.0\n",
       "effort                  0.0\n",
       "tension                 0.0\n",
       "vote                    5.0\n",
       "avg_vote                4.0\n",
       "Name: 3083, dtype: object"
      ]
     },
     "execution_count": 102,
     "metadata": {},
     "output_type": "execute_result"
    }
   ],
   "source": [
    "df_movies.loc[3083, 'genre'] = \"Crime\"\n",
    "df_movies.loc[3083]\n"
   ]
  },
  {
   "cell_type": "code",
   "execution_count": 103,
   "metadata": {},
   "outputs": [
    {
     "data": {
      "text/plain": [
       "id                                        43940\n",
       "movie       Almanya - Willkommen in Deutschland\n",
       "year                                     2011.0\n",
       "genre                                    Comedy\n",
       "duration                                   97.0\n",
       "country                                 Germany\n",
       "director                      Yasemin Samdereli\n",
       "humor                                       3.0\n",
       "rhythm                                      3.0\n",
       "effort                                      3.0\n",
       "tension                                     2.0\n",
       "vote                                        6.0\n",
       "avg_vote                                   51.0\n",
       "Name: 3120, dtype: object"
      ]
     },
     "execution_count": 103,
     "metadata": {},
     "output_type": "execute_result"
    }
   ],
   "source": [
    "df_movies.loc[3120, 'genre'] = \"Comedy\"\n",
    "df_movies.loc[3120]"
   ]
  },
  {
   "cell_type": "code",
   "execution_count": 104,
   "metadata": {},
   "outputs": [
    {
     "data": {
      "text/plain": [
       "id                     175367\n",
       "movie       House of Whipcord\n",
       "year                   1974.0\n",
       "genre                Thriller\n",
       "duration                102.0\n",
       "country         Great Britain\n",
       "director          Pete Walker\n",
       "humor                     0.0\n",
       "rhythm                    0.0\n",
       "effort                    0.0\n",
       "tension                   0.0\n",
       "vote                      7.0\n",
       "avg_vote                  3.0\n",
       "Name: 5267, dtype: object"
      ]
     },
     "execution_count": 104,
     "metadata": {},
     "output_type": "execute_result"
    }
   ],
   "source": [
    "df_movies.loc[5267, 'genre'] = \"Thriller\"\n",
    "df_movies.loc[5267]"
   ]
  },
  {
   "cell_type": "code",
   "execution_count": 105,
   "metadata": {},
   "outputs": [
    {
     "data": {
      "text/plain": [
       "id          0\n",
       "movie       1\n",
       "year        1\n",
       "genre       1\n",
       "duration    1\n",
       "country     1\n",
       "director    1\n",
       "humor       1\n",
       "rhythm      1\n",
       "effort      1\n",
       "tension     1\n",
       "vote        1\n",
       "avg_vote    1\n",
       "dtype: int64"
      ]
     },
     "execution_count": 105,
     "metadata": {},
     "output_type": "execute_result"
    }
   ],
   "source": [
    "df_movies.isnull().sum() "
   ]
  },
  {
   "cell_type": "code",
   "execution_count": 106,
   "metadata": {},
   "outputs": [
    {
     "data": {
      "text/html": [
       "<div>\n",
       "<style scoped>\n",
       "    .dataframe tbody tr th:only-of-type {\n",
       "        vertical-align: middle;\n",
       "    }\n",
       "\n",
       "    .dataframe tbody tr th {\n",
       "        vertical-align: top;\n",
       "    }\n",
       "\n",
       "    .dataframe thead th {\n",
       "        text-align: right;\n",
       "    }\n",
       "</style>\n",
       "<table border=\"1\" class=\"dataframe\">\n",
       "  <thead>\n",
       "    <tr style=\"text-align: right;\">\n",
       "      <th></th>\n",
       "      <th>id</th>\n",
       "      <th>movie</th>\n",
       "      <th>year</th>\n",
       "      <th>genre</th>\n",
       "      <th>duration</th>\n",
       "      <th>country</th>\n",
       "      <th>director</th>\n",
       "      <th>humor</th>\n",
       "      <th>rhythm</th>\n",
       "      <th>effort</th>\n",
       "      <th>tension</th>\n",
       "      <th>vote</th>\n",
       "      <th>avg_vote</th>\n",
       "    </tr>\n",
       "  </thead>\n",
       "  <tbody>\n",
       "    <tr>\n",
       "      <th>3361</th>\n",
       "      <td>49576,\"\"\"Sherlock\"\" The Great Game\",2010,Thril...</td>\n",
       "      <td>NaN</td>\n",
       "      <td>NaN</td>\n",
       "      <td>NaN</td>\n",
       "      <td>NaN</td>\n",
       "      <td>NaN</td>\n",
       "      <td>NaN</td>\n",
       "      <td>NaN</td>\n",
       "      <td>NaN</td>\n",
       "      <td>NaN</td>\n",
       "      <td>NaN</td>\n",
       "      <td>NaN</td>\n",
       "      <td>NaN</td>\n",
       "    </tr>\n",
       "  </tbody>\n",
       "</table>\n",
       "</div>"
      ],
      "text/plain": [
       "                                                     id movie  year genre  \\\n",
       "3361  49576,\"\"\"Sherlock\"\" The Great Game\",2010,Thril...   NaN   NaN   NaN   \n",
       "\n",
       "      duration country director  humor  rhythm  effort  tension  vote  \\\n",
       "3361       NaN     NaN      NaN    NaN     NaN     NaN      NaN   NaN   \n",
       "\n",
       "      avg_vote  \n",
       "3361       NaN  "
      ]
     },
     "execution_count": 106,
     "metadata": {},
     "output_type": "execute_result"
    }
   ],
   "source": [
    "missing_rows = df_movies[df_movies.isnull().any(axis=1)]\n",
    "missing_rows"
   ]
  },
  {
   "cell_type": "markdown",
   "metadata": {},
   "source": [
    "##### Supprimer les lignes où les colonnes critiques ont des valeurs manquantes"
   ]
  },
  {
   "cell_type": "code",
   "execution_count": 107,
   "metadata": {},
   "outputs": [],
   "source": [
    "df_movies_cleaned = df_movies.dropna()"
   ]
  },
  {
   "cell_type": "code",
   "execution_count": 108,
   "metadata": {},
   "outputs": [
    {
     "data": {
      "text/plain": [
       "5793"
      ]
     },
     "execution_count": 108,
     "metadata": {},
     "output_type": "execute_result"
    }
   ],
   "source": [
    "len(df_movies_cleaned)"
   ]
  },
  {
   "cell_type": "markdown",
   "metadata": {},
   "source": [
    "On est passé de 5794 lignes à 5793 lignes (5796 - 1).\n",
    "Cela représente une perte de 0,01726 % des données, ce qui est négligeable dans la plupart des cas."
   ]
  },
  {
   "cell_type": "code",
   "execution_count": 109,
   "metadata": {},
   "outputs": [
    {
     "data": {
      "image/png": "[encoded data removed]",
      "text/plain": [
       "<Figure size 640x480 with 1 Axes>"
      ]
     },
     "metadata": {},
     "output_type": "display_data"
    }
   ],
   "source": [
    "import seaborn as sns\n",
    "import matplotlib.pyplot as plt\n",
    "\n",
    "# Boîte à moustaches pour 'duration'\n",
    "sns.boxplot(x=df_movies_cleaned['duration'])\n",
    "plt.title('Boîte à moustaches pour la durée des films')\n",
    "plt.show()"
   ]
  },
  {
   "cell_type": "code",
   "execution_count": 110,
   "metadata": {},
   "outputs": [
    {
     "name": "stdout",
     "output_type": "stream",
     "text": [
      "                                               movie  duration\n",
      "753                                           Mayrig     217.0\n",
      "905                                La belle histoire     210.0\n",
      "1178                           La maman et la putain     208.0\n",
      "1310               Hitler - ein Film aus Deutschland     410.0\n",
      "1587  Jeanne la Pucelle: Les batailles - Les prisons     227.0\n",
      "2072             Heimat - Eine Chronik in elf Teilen     924.0\n",
      "2073        Die Zweite Heimat - Chronik einer Jugend    1525.0\n",
      "2074                          Out 1: Noli me tangere     729.0\n",
      "2090                                  Die Nibelungen     237.0\n",
      "2097            Heimat 3 - Chronik einer Zeitenwende     680.0\n",
      "2140                                           Shoah     544.0\n",
      "2304                                   Welt am Draht     205.0\n",
      "2309                                       Bolwieser     201.0\n",
      "2679                                 Lady Chatterley     205.0\n",
      "3343                                     L'amour fou     252.0\n",
      "3382                   The Story of Film: An Odyssey     900.0\n",
      "3417                             Le voleur invisible     432.0\n",
      "3691                         Le dernier des injustes     220.0\n",
      "3905                       Queen Live at Wembley '86     300.0\n",
      "4090                                      Nybyggarna     204.0\n",
      "4114                                  Äkta människor    1200.0\n",
      "4422                                         La roue     415.0\n",
      "4961                     CoinCoin et les z'inhumains     208.0\n",
      "5537                                Notre-Dame brûle     210.0\n",
      "5563                         Agnès de ci de là Varda     236.0\n",
      "5601                                      La Fortuna     300.0\n"
     ]
    }
   ],
   "source": [
    "# Sélectionner les films dont la durée est supérieure à 200 minutes\n",
    "long_movies = df_movies_cleaned[df_movies_cleaned['duration'] > 200]\n",
    "\n",
    "# Afficher les films sélectionnés\n",
    "print(long_movies[['movie', 'duration']])"
   ]
  },
  {
   "cell_type": "markdown",
   "metadata": {},
   "source": [
    "### Standardiser les colonnes numeriques "
   ]
  },
  {
   "cell_type": "code",
   "execution_count": 111,
   "metadata": {},
   "outputs": [
    {
     "name": "stderr",
     "output_type": "stream",
     "text": [
      "C:\\Users\\gopit\\AppData\\Local\\Temp\\ipykernel_19292\\403075277.py:11: SettingWithCopyWarning: \n",
      "A value is trying to be set on a copy of a slice from a DataFrame.\n",
      "Try using .loc[row_indexer,col_indexer] = value instead\n",
      "\n",
      "See the caveats in the documentation: https://pandas.pydata.org/pandas-docs/stable/user_guide/indexing.html#returning-a-view-versus-a-copy\n",
      "  df_movies_cleaned[numeric_columns] = scaler.fit_transform(df_movies_cleaned[numeric_columns])\n"
     ]
    },
    {
     "data": {
      "text/html": [
       "<div>\n",
       "<style scoped>\n",
       "    .dataframe tbody tr th:only-of-type {\n",
       "        vertical-align: middle;\n",
       "    }\n",
       "\n",
       "    .dataframe tbody tr th {\n",
       "        vertical-align: top;\n",
       "    }\n",
       "\n",
       "    .dataframe thead th {\n",
       "        text-align: right;\n",
       "    }\n",
       "</style>\n",
       "<table border=\"1\" class=\"dataframe\">\n",
       "  <thead>\n",
       "    <tr style=\"text-align: right;\">\n",
       "      <th></th>\n",
       "      <th>humor</th>\n",
       "      <th>rhythm</th>\n",
       "      <th>effort</th>\n",
       "      <th>tension</th>\n",
       "      <th>vote</th>\n",
       "      <th>avg_vote</th>\n",
       "    </tr>\n",
       "  </thead>\n",
       "  <tbody>\n",
       "    <tr>\n",
       "      <th>0</th>\n",
       "      <td>0.604741</td>\n",
       "      <td>0.706381</td>\n",
       "      <td>0.229373</td>\n",
       "      <td>1.880363</td>\n",
       "      <td>0.229243</td>\n",
       "      <td>-0.297279</td>\n",
       "    </tr>\n",
       "    <tr>\n",
       "      <th>1</th>\n",
       "      <td>0.604741</td>\n",
       "      <td>0.706381</td>\n",
       "      <td>-0.632338</td>\n",
       "      <td>0.989689</td>\n",
       "      <td>0.229243</td>\n",
       "      <td>0.064409</td>\n",
       "    </tr>\n",
       "    <tr>\n",
       "      <th>2</th>\n",
       "      <td>-0.580797</td>\n",
       "      <td>-0.146133</td>\n",
       "      <td>0.229373</td>\n",
       "      <td>-0.791659</td>\n",
       "      <td>-1.210330</td>\n",
       "      <td>-0.478123</td>\n",
       "    </tr>\n",
       "    <tr>\n",
       "      <th>3</th>\n",
       "      <td>1.790280</td>\n",
       "      <td>1.558894</td>\n",
       "      <td>-0.632338</td>\n",
       "      <td>0.099015</td>\n",
       "      <td>0.229243</td>\n",
       "      <td>-0.458029</td>\n",
       "    </tr>\n",
       "    <tr>\n",
       "      <th>4</th>\n",
       "      <td>0.604741</td>\n",
       "      <td>0.706381</td>\n",
       "      <td>0.229373</td>\n",
       "      <td>-0.791659</td>\n",
       "      <td>0.229243</td>\n",
       "      <td>-0.337467</td>\n",
       "    </tr>\n",
       "  </tbody>\n",
       "</table>\n",
       "</div>"
      ],
      "text/plain": [
       "      humor    rhythm    effort   tension      vote  avg_vote\n",
       "0  0.604741  0.706381  0.229373  1.880363  0.229243 -0.297279\n",
       "1  0.604741  0.706381 -0.632338  0.989689  0.229243  0.064409\n",
       "2 -0.580797 -0.146133  0.229373 -0.791659 -1.210330 -0.478123\n",
       "3  1.790280  1.558894 -0.632338  0.099015  0.229243 -0.458029\n",
       "4  0.604741  0.706381  0.229373 -0.791659  0.229243 -0.337467"
      ]
     },
     "execution_count": 111,
     "metadata": {},
     "output_type": "execute_result"
    }
   ],
   "source": [
    "from sklearn.preprocessing import StandardScaler\n",
    "\n",
    "\n",
    "# Colonnes numériques à standardiser\n",
    "numeric_columns = ['humor', 'rhythm', 'effort', 'tension', 'vote', 'avg_vote']\n",
    "\n",
    "# Initialiser le StandardScaler\n",
    "scaler = StandardScaler()\n",
    "\n",
    "# Standardiser les colonnes numériques\n",
    "df_movies_cleaned[numeric_columns] = scaler.fit_transform(df_movies_cleaned[numeric_columns])\n",
    "\n",
    "# Vérifier les données standardisées\n",
    "df_movies_cleaned[numeric_columns].head()\n",
    "\n"
   ]
  },
  {
   "cell_type": "code",
   "execution_count": 112,
   "metadata": {},
   "outputs": [
    {
     "data": {
      "text/html": [
       "<div>\n",
       "<style scoped>\n",
       "    .dataframe tbody tr th:only-of-type {\n",
       "        vertical-align: middle;\n",
       "    }\n",
       "\n",
       "    .dataframe tbody tr th {\n",
       "        vertical-align: top;\n",
       "    }\n",
       "\n",
       "    .dataframe thead th {\n",
       "        text-align: right;\n",
       "    }\n",
       "</style>\n",
       "<table border=\"1\" class=\"dataframe\">\n",
       "  <thead>\n",
       "    <tr style=\"text-align: right;\">\n",
       "      <th></th>\n",
       "      <th>id</th>\n",
       "      <th>movie</th>\n",
       "      <th>year</th>\n",
       "      <th>genre</th>\n",
       "      <th>duration</th>\n",
       "      <th>country</th>\n",
       "      <th>director</th>\n",
       "      <th>humor</th>\n",
       "      <th>rhythm</th>\n",
       "      <th>effort</th>\n",
       "      <th>tension</th>\n",
       "      <th>vote</th>\n",
       "      <th>avg_vote</th>\n",
       "    </tr>\n",
       "  </thead>\n",
       "  <tbody>\n",
       "    <tr>\n",
       "      <th>0</th>\n",
       "      <td>71</td>\n",
       "      <td>Charlie Muffin</td>\n",
       "      <td>1979.0</td>\n",
       "      <td>Spy</td>\n",
       "      <td>109.0</td>\n",
       "      <td>Great Britain</td>\n",
       "      <td>Jack Gold</td>\n",
       "      <td>0.604741</td>\n",
       "      <td>0.706381</td>\n",
       "      <td>0.229373</td>\n",
       "      <td>1.880363</td>\n",
       "      <td>0.229243</td>\n",
       "      <td>-0.297279</td>\n",
       "    </tr>\n",
       "    <tr>\n",
       "      <th>1</th>\n",
       "      <td>78</td>\n",
       "      <td>Absolute Beginners</td>\n",
       "      <td>1986.0</td>\n",
       "      <td>Musical</td>\n",
       "      <td>100.0</td>\n",
       "      <td>Great Britain</td>\n",
       "      <td>Julien Temple</td>\n",
       "      <td>0.604741</td>\n",
       "      <td>0.706381</td>\n",
       "      <td>-0.632338</td>\n",
       "      <td>0.989689</td>\n",
       "      <td>0.229243</td>\n",
       "      <td>0.064409</td>\n",
       "    </tr>\n",
       "    <tr>\n",
       "      <th>2</th>\n",
       "      <td>94</td>\n",
       "      <td>Arrêt sur image</td>\n",
       "      <td>1987.0</td>\n",
       "      <td>Drama</td>\n",
       "      <td>77.0</td>\n",
       "      <td>France</td>\n",
       "      <td>Christine Allen</td>\n",
       "      <td>-0.580797</td>\n",
       "      <td>-0.146133</td>\n",
       "      <td>0.229373</td>\n",
       "      <td>-0.791659</td>\n",
       "      <td>-1.210330</td>\n",
       "      <td>-0.478123</td>\n",
       "    </tr>\n",
       "    <tr>\n",
       "      <th>3</th>\n",
       "      <td>97</td>\n",
       "      <td>Water</td>\n",
       "      <td>1985.0</td>\n",
       "      <td>Grotesque</td>\n",
       "      <td>97.0</td>\n",
       "      <td>Great Britain</td>\n",
       "      <td>Dick Clement</td>\n",
       "      <td>1.790280</td>\n",
       "      <td>1.558894</td>\n",
       "      <td>-0.632338</td>\n",
       "      <td>0.099015</td>\n",
       "      <td>0.229243</td>\n",
       "      <td>-0.458029</td>\n",
       "    </tr>\n",
       "    <tr>\n",
       "      <th>4</th>\n",
       "      <td>109</td>\n",
       "      <td>Adam and Evelyne</td>\n",
       "      <td>1949.0</td>\n",
       "      <td>Comedy</td>\n",
       "      <td>92.0</td>\n",
       "      <td>Great Britain</td>\n",
       "      <td>Harold French</td>\n",
       "      <td>0.604741</td>\n",
       "      <td>0.706381</td>\n",
       "      <td>0.229373</td>\n",
       "      <td>-0.791659</td>\n",
       "      <td>0.229243</td>\n",
       "      <td>-0.337467</td>\n",
       "    </tr>\n",
       "  </tbody>\n",
       "</table>\n",
       "</div>"
      ],
      "text/plain": [
       "    id               movie    year      genre  duration        country  \\\n",
       "0   71      Charlie Muffin  1979.0        Spy     109.0  Great Britain   \n",
       "1   78  Absolute Beginners  1986.0    Musical     100.0  Great Britain   \n",
       "2   94     Arrêt sur image  1987.0      Drama      77.0         France   \n",
       "3   97               Water  1985.0  Grotesque      97.0  Great Britain   \n",
       "4  109    Adam and Evelyne  1949.0     Comedy      92.0  Great Britain   \n",
       "\n",
       "          director     humor    rhythm    effort   tension      vote  avg_vote  \n",
       "0        Jack Gold  0.604741  0.706381  0.229373  1.880363  0.229243 -0.297279  \n",
       "1    Julien Temple  0.604741  0.706381 -0.632338  0.989689  0.229243  0.064409  \n",
       "2  Christine Allen -0.580797 -0.146133  0.229373 -0.791659 -1.210330 -0.478123  \n",
       "3     Dick Clement  1.790280  1.558894 -0.632338  0.099015  0.229243 -0.458029  \n",
       "4    Harold French  0.604741  0.706381  0.229373 -0.791659  0.229243 -0.337467  "
      ]
     },
     "execution_count": 112,
     "metadata": {},
     "output_type": "execute_result"
    }
   ],
   "source": [
    "df_movies_cleaned.head()"
   ]
  },
  {
   "cell_type": "code",
   "execution_count": 113,
   "metadata": {},
   "outputs": [],
   "source": [
    "df_movies_cleaned.to_csv('movies_clean.csv', index=False)"
   ]
  },
  {
   "cell_type": "code",
   "execution_count": 114,
   "metadata": {},
   "outputs": [
    {
     "data": {
      "text/plain": [
       "array(['Spy', 'Musical', 'Drama', 'Grotesque', 'Comedy', 'Western',\n",
       "       'Horror', 'Biography', 'Thriller', 'Mélo', 'Adventure', 'History',\n",
       "       'War', 'Crime', 'Animation', 'Sci-Fi', 'Documentary', 'Fantasy',\n",
       "       'Romantic', 'Noir', 'Action', 'Erotico', 'Super-hero', 'Gangster',\n",
       "       'Sperimental', 'Short Movie', 'Sport', 'Stand-up Comedy'],\n",
       "      dtype=object)"
      ]
     },
     "execution_count": 114,
     "metadata": {},
     "output_type": "execute_result"
    }
   ],
   "source": [
    "df_movies_cleaned['genre'].unique()"
   ]
  },
  {
   "cell_type": "code",
   "execution_count": 115,
   "metadata": {},
   "outputs": [
    {
     "data": {
      "text/plain": [
       "array(['Great Britain', 'France', 'Germany', 'Australia', 'Sweden',\n",
       "       'Spain', 'Ireland', 'South Korea'], dtype=object)"
      ]
     },
     "execution_count": 115,
     "metadata": {},
     "output_type": "execute_result"
    }
   ],
   "source": [
    "df_movies_cleaned['country'].unique()"
   ]
  },
  {
   "cell_type": "code",
   "execution_count": 116,
   "metadata": {},
   "outputs": [
    {
     "data": {
      "text/plain": [
       "array(['Jack Gold', 'Julien Temple', 'Christine Allen', ...,\n",
       "       'Judith Westermann', 'Adrian Powers', 'Patrik Eklund'],\n",
       "      shape=(2821,), dtype=object)"
      ]
     },
     "execution_count": 116,
     "metadata": {},
     "output_type": "execute_result"
    }
   ],
   "source": [
    "df_movies_cleaned['director'].unique()"
   ]
  },
  {
   "cell_type": "markdown",
   "metadata": {},
   "source": [
    "### Cleaning Data (past_screening)"
   ]
  },
  {
   "cell_type": "code",
   "execution_count": 117,
   "metadata": {},
   "outputs": [
    {
     "data": {
      "text/html": [
       "<div>\n",
       "<style scoped>\n",
       "    .dataframe tbody tr th:only-of-type {\n",
       "        vertical-align: middle;\n",
       "    }\n",
       "\n",
       "    .dataframe tbody tr th {\n",
       "        vertical-align: top;\n",
       "    }\n",
       "\n",
       "    .dataframe thead th {\n",
       "        text-align: right;\n",
       "    }\n",
       "</style>\n",
       "<table border=\"1\" class=\"dataframe\">\n",
       "  <thead>\n",
       "    <tr style=\"text-align: right;\">\n",
       "      <th></th>\n",
       "      <th>week</th>\n",
       "      <th>day</th>\n",
       "      <th>room</th>\n",
       "      <th>screening</th>\n",
       "      <th>movie</th>\n",
       "    </tr>\n",
       "  </thead>\n",
       "  <tbody>\n",
       "    <tr>\n",
       "      <th>0</th>\n",
       "      <td>0</td>\n",
       "      <td>0</td>\n",
       "      <td>0</td>\n",
       "      <td>0</td>\n",
       "      <td>Wallander: Skytten</td>\n",
       "    </tr>\n",
       "    <tr>\n",
       "      <th>1</th>\n",
       "      <td>0</td>\n",
       "      <td>0</td>\n",
       "      <td>0</td>\n",
       "      <td>1</td>\n",
       "      <td>Canola</td>\n",
       "    </tr>\n",
       "    <tr>\n",
       "      <th>2</th>\n",
       "      <td>0</td>\n",
       "      <td>0</td>\n",
       "      <td>0</td>\n",
       "      <td>2</td>\n",
       "      <td>Guns Akimbo</td>\n",
       "    </tr>\n",
       "    <tr>\n",
       "      <th>3</th>\n",
       "      <td>0</td>\n",
       "      <td>0</td>\n",
       "      <td>1</td>\n",
       "      <td>3</td>\n",
       "      <td>La mano de un hombre muerto</td>\n",
       "    </tr>\n",
       "    <tr>\n",
       "      <th>4</th>\n",
       "      <td>0</td>\n",
       "      <td>0</td>\n",
       "      <td>1</td>\n",
       "      <td>4</td>\n",
       "      <td>Vendetta for the Saint</td>\n",
       "    </tr>\n",
       "    <tr>\n",
       "      <th>...</th>\n",
       "      <td>...</td>\n",
       "      <td>...</td>\n",
       "      <td>...</td>\n",
       "      <td>...</td>\n",
       "      <td>...</td>\n",
       "    </tr>\n",
       "    <tr>\n",
       "      <th>19995</th>\n",
       "      <td>799</td>\n",
       "      <td>4</td>\n",
       "      <td>0</td>\n",
       "      <td>0</td>\n",
       "      <td>Woomuk-Baemi ui sarang</td>\n",
       "    </tr>\n",
       "    <tr>\n",
       "      <th>19996</th>\n",
       "      <td>799</td>\n",
       "      <td>4</td>\n",
       "      <td>0</td>\n",
       "      <td>1</td>\n",
       "      <td>Barrio</td>\n",
       "    </tr>\n",
       "    <tr>\n",
       "      <th>19997</th>\n",
       "      <td>799</td>\n",
       "      <td>4</td>\n",
       "      <td>0</td>\n",
       "      <td>2</td>\n",
       "      <td>Ce jour-là</td>\n",
       "    </tr>\n",
       "    <tr>\n",
       "      <th>19998</th>\n",
       "      <td>799</td>\n",
       "      <td>4</td>\n",
       "      <td>1</td>\n",
       "      <td>3</td>\n",
       "      <td>Fitzcarraldo</td>\n",
       "    </tr>\n",
       "    <tr>\n",
       "      <th>19999</th>\n",
       "      <td>799</td>\n",
       "      <td>4</td>\n",
       "      <td>1</td>\n",
       "      <td>4</td>\n",
       "      <td>Blame It on the Bellboy</td>\n",
       "    </tr>\n",
       "  </tbody>\n",
       "</table>\n",
       "<p>20000 rows × 5 columns</p>\n",
       "</div>"
      ],
      "text/plain": [
       "       week  day  room  screening                        movie\n",
       "0         0    0     0          0           Wallander: Skytten\n",
       "1         0    0     0          1                       Canola\n",
       "2         0    0     0          2                  Guns Akimbo\n",
       "3         0    0     1          3  La mano de un hombre muerto\n",
       "4         0    0     1          4       Vendetta for the Saint\n",
       "...     ...  ...   ...        ...                          ...\n",
       "19995   799    4     0          0       Woomuk-Baemi ui sarang\n",
       "19996   799    4     0          1                       Barrio\n",
       "19997   799    4     0          2                   Ce jour-là\n",
       "19998   799    4     1          3                 Fitzcarraldo\n",
       "19999   799    4     1          4      Blame It on the Bellboy\n",
       "\n",
       "[20000 rows x 5 columns]"
      ]
     },
     "execution_count": 117,
     "metadata": {},
     "output_type": "execute_result"
    }
   ],
   "source": [
    "df_ps "
   ]
  },
  {
   "cell_type": "code",
   "execution_count": 119,
   "metadata": {},
   "outputs": [
    {
     "data": {
      "text/plain": [
       "np.int64(0)"
      ]
     },
     "execution_count": 119,
     "metadata": {},
     "output_type": "execute_result"
    }
   ],
   "source": [
    "# Vérifier les doublons\n",
    "df_ps.duplicated().sum()"
   ]
  },
  {
   "cell_type": "code",
   "execution_count": null,
   "metadata": {},
   "outputs": [
    {
     "name": "stdout",
     "output_type": "stream",
     "text": [
      "   week  day       date\n",
      "0     0    0 2024-01-01\n",
      "1     0    0 2024-01-01\n",
      "2     0    0 2024-01-01\n",
      "3     0    0 2024-01-01\n",
      "4     0    0 2024-01-01\n"
     ]
    }
   ],
   "source": [
    "from datetime import datetime, timedelta\n",
    "\n",
    "reference_date = datetime(2024, 1, 9)\n",
    "\n",
    "def calculate_date(week, day):\n",
    "    total_days = (week - 1) * 7 + (day - 1) \n",
    "    return reference_date + timedelta(days=total_days)\n",
    "\n",
    "\n",
    "df_ps['date'] = df_ps.apply(lambda row: calculate_date(row['week'], row['day']), axis=1)"
   ]
  },
  {
   "cell_type": "code",
   "execution_count": 124,
   "metadata": {},
   "outputs": [
    {
     "data": {
      "text/html": [
       "<div>\n",
       "<style scoped>\n",
       "    .dataframe tbody tr th:only-of-type {\n",
       "        vertical-align: middle;\n",
       "    }\n",
       "\n",
       "    .dataframe tbody tr th {\n",
       "        vertical-align: top;\n",
       "    }\n",
       "\n",
       "    .dataframe thead th {\n",
       "        text-align: right;\n",
       "    }\n",
       "</style>\n",
       "<table border=\"1\" class=\"dataframe\">\n",
       "  <thead>\n",
       "    <tr style=\"text-align: right;\">\n",
       "      <th></th>\n",
       "      <th>week</th>\n",
       "      <th>day</th>\n",
       "      <th>room</th>\n",
       "      <th>screening</th>\n",
       "      <th>movie</th>\n",
       "      <th>date</th>\n",
       "    </tr>\n",
       "  </thead>\n",
       "  <tbody>\n",
       "    <tr>\n",
       "      <th>0</th>\n",
       "      <td>0</td>\n",
       "      <td>0</td>\n",
       "      <td>0</td>\n",
       "      <td>0</td>\n",
       "      <td>Wallander: Skytten</td>\n",
       "      <td>2024-01-01</td>\n",
       "    </tr>\n",
       "    <tr>\n",
       "      <th>1</th>\n",
       "      <td>0</td>\n",
       "      <td>0</td>\n",
       "      <td>0</td>\n",
       "      <td>1</td>\n",
       "      <td>Canola</td>\n",
       "      <td>2024-01-01</td>\n",
       "    </tr>\n",
       "    <tr>\n",
       "      <th>2</th>\n",
       "      <td>0</td>\n",
       "      <td>0</td>\n",
       "      <td>0</td>\n",
       "      <td>2</td>\n",
       "      <td>Guns Akimbo</td>\n",
       "      <td>2024-01-01</td>\n",
       "    </tr>\n",
       "    <tr>\n",
       "      <th>3</th>\n",
       "      <td>0</td>\n",
       "      <td>0</td>\n",
       "      <td>1</td>\n",
       "      <td>3</td>\n",
       "      <td>La mano de un hombre muerto</td>\n",
       "      <td>2024-01-01</td>\n",
       "    </tr>\n",
       "    <tr>\n",
       "      <th>4</th>\n",
       "      <td>0</td>\n",
       "      <td>0</td>\n",
       "      <td>1</td>\n",
       "      <td>4</td>\n",
       "      <td>Vendetta for the Saint</td>\n",
       "      <td>2024-01-01</td>\n",
       "    </tr>\n",
       "  </tbody>\n",
       "</table>\n",
       "</div>"
      ],
      "text/plain": [
       "   week  day  room  screening                        movie       date\n",
       "0     0    0     0          0           Wallander: Skytten 2024-01-01\n",
       "1     0    0     0          1                       Canola 2024-01-01\n",
       "2     0    0     0          2                  Guns Akimbo 2024-01-01\n",
       "3     0    0     1          3  La mano de un hombre muerto 2024-01-01\n",
       "4     0    0     1          4       Vendetta for the Saint 2024-01-01"
      ]
     },
     "execution_count": 124,
     "metadata": {},
     "output_type": "execute_result"
    }
   ],
   "source": [
    "df_ps.head(5)"
   ]
  },
  {
   "cell_type": "code",
   "execution_count": 125,
   "metadata": {},
   "outputs": [],
   "source": [
    "df_ps.drop(columns=['week', 'day'], inplace=True)"
   ]
  },
  {
   "cell_type": "code",
   "execution_count": 127,
   "metadata": {},
   "outputs": [
    {
     "data": {
      "text/html": [
       "<div>\n",
       "<style scoped>\n",
       "    .dataframe tbody tr th:only-of-type {\n",
       "        vertical-align: middle;\n",
       "    }\n",
       "\n",
       "    .dataframe tbody tr th {\n",
       "        vertical-align: top;\n",
       "    }\n",
       "\n",
       "    .dataframe thead th {\n",
       "        text-align: right;\n",
       "    }\n",
       "</style>\n",
       "<table border=\"1\" class=\"dataframe\">\n",
       "  <thead>\n",
       "    <tr style=\"text-align: right;\">\n",
       "      <th></th>\n",
       "      <th>room</th>\n",
       "      <th>screening</th>\n",
       "      <th>movie</th>\n",
       "      <th>date</th>\n",
       "    </tr>\n",
       "  </thead>\n",
       "  <tbody>\n",
       "    <tr>\n",
       "      <th>0</th>\n",
       "      <td>0</td>\n",
       "      <td>0</td>\n",
       "      <td>Wallander: Skytten</td>\n",
       "      <td>2024-01-01</td>\n",
       "    </tr>\n",
       "    <tr>\n",
       "      <th>1</th>\n",
       "      <td>0</td>\n",
       "      <td>1</td>\n",
       "      <td>Canola</td>\n",
       "      <td>2024-01-01</td>\n",
       "    </tr>\n",
       "    <tr>\n",
       "      <th>2</th>\n",
       "      <td>0</td>\n",
       "      <td>2</td>\n",
       "      <td>Guns Akimbo</td>\n",
       "      <td>2024-01-01</td>\n",
       "    </tr>\n",
       "    <tr>\n",
       "      <th>3</th>\n",
       "      <td>1</td>\n",
       "      <td>3</td>\n",
       "      <td>La mano de un hombre muerto</td>\n",
       "      <td>2024-01-01</td>\n",
       "    </tr>\n",
       "    <tr>\n",
       "      <th>4</th>\n",
       "      <td>1</td>\n",
       "      <td>4</td>\n",
       "      <td>Vendetta for the Saint</td>\n",
       "      <td>2024-01-01</td>\n",
       "    </tr>\n",
       "  </tbody>\n",
       "</table>\n",
       "</div>"
      ],
      "text/plain": [
       "   room  screening                        movie       date\n",
       "0     0          0           Wallander: Skytten 2024-01-01\n",
       "1     0          1                       Canola 2024-01-01\n",
       "2     0          2                  Guns Akimbo 2024-01-01\n",
       "3     1          3  La mano de un hombre muerto 2024-01-01\n",
       "4     1          4       Vendetta for the Saint 2024-01-01"
      ]
     },
     "execution_count": 127,
     "metadata": {},
     "output_type": "execute_result"
    }
   ],
   "source": [
    "df_ps.head()"
   ]
  },
  {
   "cell_type": "code",
   "execution_count": 130,
   "metadata": {},
   "outputs": [
    {
     "data": {
      "text/html": [
       "<div>\n",
       "<style scoped>\n",
       "    .dataframe tbody tr th:only-of-type {\n",
       "        vertical-align: middle;\n",
       "    }\n",
       "\n",
       "    .dataframe tbody tr th {\n",
       "        vertical-align: top;\n",
       "    }\n",
       "\n",
       "    .dataframe thead th {\n",
       "        text-align: right;\n",
       "    }\n",
       "</style>\n",
       "<table border=\"1\" class=\"dataframe\">\n",
       "  <thead>\n",
       "    <tr style=\"text-align: right;\">\n",
       "      <th></th>\n",
       "      <th>room</th>\n",
       "      <th>screening</th>\n",
       "      <th>movie</th>\n",
       "      <th>date</th>\n",
       "      <th>year</th>\n",
       "      <th>genre</th>\n",
       "      <th>director</th>\n",
       "      <th>country</th>\n",
       "      <th>duration</th>\n",
       "      <th>humor</th>\n",
       "      <th>rhythm</th>\n",
       "      <th>effort</th>\n",
       "      <th>tension</th>\n",
       "      <th>vote</th>\n",
       "      <th>avg_vote</th>\n",
       "    </tr>\n",
       "  </thead>\n",
       "  <tbody>\n",
       "    <tr>\n",
       "      <th>0</th>\n",
       "      <td>0</td>\n",
       "      <td>0</td>\n",
       "      <td>Wallander: Skytten</td>\n",
       "      <td>2024-01-01</td>\n",
       "      <td>2009.0</td>\n",
       "      <td>Thriller</td>\n",
       "      <td>Agneta Fagerström-Olsson</td>\n",
       "      <td>Sweden</td>\n",
       "      <td>90.0</td>\n",
       "      <td>-0.580797</td>\n",
       "      <td>-0.998646</td>\n",
       "      <td>-0.632338</td>\n",
       "      <td>-0.791659</td>\n",
       "      <td>-1.210330</td>\n",
       "      <td>-0.437935</td>\n",
       "    </tr>\n",
       "    <tr>\n",
       "      <th>1</th>\n",
       "      <td>0</td>\n",
       "      <td>1</td>\n",
       "      <td>Canola</td>\n",
       "      <td>2024-01-01</td>\n",
       "      <td>2016.0</td>\n",
       "      <td>Drama</td>\n",
       "      <td>Chang</td>\n",
       "      <td>South Korea</td>\n",
       "      <td>117.0</td>\n",
       "      <td>-0.580797</td>\n",
       "      <td>-0.998646</td>\n",
       "      <td>-0.632338</td>\n",
       "      <td>-0.791659</td>\n",
       "      <td>1.668817</td>\n",
       "      <td>-0.437935</td>\n",
       "    </tr>\n",
       "    <tr>\n",
       "      <th>2</th>\n",
       "      <td>0</td>\n",
       "      <td>2</td>\n",
       "      <td>Guns Akimbo</td>\n",
       "      <td>2024-01-01</td>\n",
       "      <td>2019.0</td>\n",
       "      <td>Action</td>\n",
       "      <td>Jason Lei Howden</td>\n",
       "      <td>Great Britain</td>\n",
       "      <td>95.0</td>\n",
       "      <td>-0.580797</td>\n",
       "      <td>-0.998646</td>\n",
       "      <td>-0.632338</td>\n",
       "      <td>-0.791659</td>\n",
       "      <td>-0.490543</td>\n",
       "      <td>0.586847</td>\n",
       "    </tr>\n",
       "    <tr>\n",
       "      <th>3</th>\n",
       "      <td>1</td>\n",
       "      <td>3</td>\n",
       "      <td>La mano de un hombre muerto</td>\n",
       "      <td>2024-01-01</td>\n",
       "      <td>1962.0</td>\n",
       "      <td>Horror</td>\n",
       "      <td>Jesús Franco</td>\n",
       "      <td>Spain</td>\n",
       "      <td>95.0</td>\n",
       "      <td>-0.580797</td>\n",
       "      <td>-0.998646</td>\n",
       "      <td>-0.632338</td>\n",
       "      <td>-0.791659</td>\n",
       "      <td>0.229243</td>\n",
       "      <td>-0.478123</td>\n",
       "    </tr>\n",
       "    <tr>\n",
       "      <th>4</th>\n",
       "      <td>1</td>\n",
       "      <td>4</td>\n",
       "      <td>Vendetta for the Saint</td>\n",
       "      <td>2024-01-01</td>\n",
       "      <td>1973.0</td>\n",
       "      <td>Spy</td>\n",
       "      <td>Jim O' Connolly</td>\n",
       "      <td>Great Britain</td>\n",
       "      <td>100.0</td>\n",
       "      <td>-0.580797</td>\n",
       "      <td>0.706381</td>\n",
       "      <td>-0.632338</td>\n",
       "      <td>0.989689</td>\n",
       "      <td>0.229243</td>\n",
       "      <td>-0.216904</td>\n",
       "    </tr>\n",
       "    <tr>\n",
       "      <th>5</th>\n",
       "      <td>0</td>\n",
       "      <td>0</td>\n",
       "      <td>Banchikwwang</td>\n",
       "      <td>2024-01-02</td>\n",
       "      <td>2000.0</td>\n",
       "      <td>Comedy</td>\n",
       "      <td>Kim Ji-woon</td>\n",
       "      <td>South Korea</td>\n",
       "      <td>112.0</td>\n",
       "      <td>-0.580797</td>\n",
       "      <td>-0.998646</td>\n",
       "      <td>-0.632338</td>\n",
       "      <td>-0.791659</td>\n",
       "      <td>0.229243</td>\n",
       "      <td>-0.297279</td>\n",
       "    </tr>\n",
       "  </tbody>\n",
       "</table>\n",
       "</div>"
      ],
      "text/plain": [
       "   room  screening                        movie       date    year     genre  \\\n",
       "0     0          0           Wallander: Skytten 2024-01-01  2009.0  Thriller   \n",
       "1     0          1                       Canola 2024-01-01  2016.0     Drama   \n",
       "2     0          2                  Guns Akimbo 2024-01-01  2019.0    Action   \n",
       "3     1          3  La mano de un hombre muerto 2024-01-01  1962.0    Horror   \n",
       "4     1          4       Vendetta for the Saint 2024-01-01  1973.0       Spy   \n",
       "5     0          0                 Banchikwwang 2024-01-02  2000.0    Comedy   \n",
       "\n",
       "                   director        country  duration     humor    rhythm  \\\n",
       "0  Agneta Fagerström-Olsson         Sweden      90.0 -0.580797 -0.998646   \n",
       "1                     Chang    South Korea     117.0 -0.580797 -0.998646   \n",
       "2          Jason Lei Howden  Great Britain      95.0 -0.580797 -0.998646   \n",
       "3              Jesús Franco          Spain      95.0 -0.580797 -0.998646   \n",
       "4           Jim O' Connolly  Great Britain     100.0 -0.580797  0.706381   \n",
       "5               Kim Ji-woon    South Korea     112.0 -0.580797 -0.998646   \n",
       "\n",
       "     effort   tension      vote  avg_vote  \n",
       "0 -0.632338 -0.791659 -1.210330 -0.437935  \n",
       "1 -0.632338 -0.791659  1.668817 -0.437935  \n",
       "2 -0.632338 -0.791659 -0.490543  0.586847  \n",
       "3 -0.632338 -0.791659  0.229243 -0.478123  \n",
       "4 -0.632338  0.989689  0.229243 -0.216904  \n",
       "5 -0.632338 -0.791659  0.229243 -0.297279  "
      ]
     },
     "execution_count": 130,
     "metadata": {},
     "output_type": "execute_result"
    }
   ],
   "source": [
    "movies_clean = pd.read_csv('movies_clean.csv', header = 0)\n",
    "\n",
    "columns_to_keep = ['movie', 'year', 'genre', 'director', 'country', 'duration', 'humor', 'rhythm', 'effort', 'tension', 'vote', 'avg_vote']\n",
    "merged_data = df_ps.merge(movies_clean[columns_to_keep],on='movie', how='left')\n",
    "\n",
    "merged_data.head(6)\n"
   ]
  },
  {
   "cell_type": "code",
   "execution_count": 131,
   "metadata": {},
   "outputs": [],
   "source": [
    "merged_data.to_csv('Merge_Data.csv', index=False)"
   ]
  },
  {
   "cell_type": "code",
   "execution_count": 139,
   "metadata": {},
   "outputs": [],
   "source": [
    "merged_data.to_excel('Merge_D.xlsx', index=False)"
   ]
  }
 ],
 "metadata": {
  "kernelspec": {
   "display_name": "env",
   "language": "python",
   "name": "python3"
  },
  "language_info": {
   "codemirror_mode": {
    "name": "ipython",
    "version": 3
   },
   "file_extension": ".py",
   "mimetype": "text/x-python",
   "name": "python",
   "nbconvert_exporter": "python",
   "pygments_lexer": "ipython3",
   "version": "3.13.1"
  }
 },
 "nbformat": 4,
 "nbformat_minor": 2
}
