{
 "cells": [
  {
   "cell_type": "markdown",
   "metadata": {},
   "source": [
    "### Understand the Data"
   ]
  },
  {
   "cell_type": "code",
   "execution_count": 28,
   "metadata": {},
   "outputs": [],
   "source": [
    "import pandas as pd \n",
    "\n",
    "df_movies = pd.read_csv('movies.csv', header = 0)\n",
    "df_ps = pd.read_csv('past_screenings.csv', header = 0)\n"
   ]
  },
  {
   "cell_type": "code",
   "execution_count": 29,
   "metadata": {},
   "outputs": [
    {
     "data": {
      "text/html": [
       "<div>\n",
       "<style scoped>\n",
       "    .dataframe tbody tr th:only-of-type {\n",
       "        vertical-align: middle;\n",
       "    }\n",
       "\n",
       "    .dataframe tbody tr th {\n",
       "        vertical-align: top;\n",
       "    }\n",
       "\n",
       "    .dataframe thead th {\n",
       "        text-align: right;\n",
       "    }\n",
       "</style>\n",
       "<table border=\"1\" class=\"dataframe\">\n",
       "  <thead>\n",
       "    <tr style=\"text-align: right;\">\n",
       "      <th></th>\n",
       "      <th>id</th>\n",
       "      <th>movie</th>\n",
       "      <th>year</th>\n",
       "      <th>genre</th>\n",
       "      <th>duration</th>\n",
       "      <th>country</th>\n",
       "      <th>director</th>\n",
       "      <th>humor</th>\n",
       "      <th>rhythm</th>\n",
       "      <th>effort</th>\n",
       "      <th>tension</th>\n",
       "      <th>vote</th>\n",
       "      <th>avg_vote</th>\n",
       "    </tr>\n",
       "  </thead>\n",
       "  <tbody>\n",
       "    <tr>\n",
       "      <th>0</th>\n",
       "      <td>71</td>\n",
       "      <td>Charlie Muffin</td>\n",
       "      <td>1979.0</td>\n",
       "      <td>Spy</td>\n",
       "      <td>109.0</td>\n",
       "      <td>Great Britain</td>\n",
       "      <td>Jack Gold</td>\n",
       "      <td>1.0</td>\n",
       "      <td>2.0</td>\n",
       "      <td>1.0</td>\n",
       "      <td>3.0</td>\n",
       "      <td>6.0</td>\n",
       "      <td>13.0</td>\n",
       "    </tr>\n",
       "    <tr>\n",
       "      <th>1</th>\n",
       "      <td>78</td>\n",
       "      <td>Absolute Beginners</td>\n",
       "      <td>1986.0</td>\n",
       "      <td>Musical</td>\n",
       "      <td>100.0</td>\n",
       "      <td>Great Britain</td>\n",
       "      <td>Julien Temple</td>\n",
       "      <td>1.0</td>\n",
       "      <td>2.0</td>\n",
       "      <td>0.0</td>\n",
       "      <td>2.0</td>\n",
       "      <td>6.0</td>\n",
       "      <td>31.0</td>\n",
       "    </tr>\n",
       "    <tr>\n",
       "      <th>2</th>\n",
       "      <td>94</td>\n",
       "      <td>Arrêt sur image</td>\n",
       "      <td>1987.0</td>\n",
       "      <td>Drama</td>\n",
       "      <td>77.0</td>\n",
       "      <td>France</td>\n",
       "      <td>Christine Allen</td>\n",
       "      <td>0.0</td>\n",
       "      <td>1.0</td>\n",
       "      <td>1.0</td>\n",
       "      <td>0.0</td>\n",
       "      <td>4.0</td>\n",
       "      <td>4.0</td>\n",
       "    </tr>\n",
       "    <tr>\n",
       "      <th>3</th>\n",
       "      <td>97</td>\n",
       "      <td>Water</td>\n",
       "      <td>1985.0</td>\n",
       "      <td>Grotesque</td>\n",
       "      <td>97.0</td>\n",
       "      <td>Great Britain</td>\n",
       "      <td>Dick Clement</td>\n",
       "      <td>2.0</td>\n",
       "      <td>3.0</td>\n",
       "      <td>0.0</td>\n",
       "      <td>1.0</td>\n",
       "      <td>6.0</td>\n",
       "      <td>5.0</td>\n",
       "    </tr>\n",
       "    <tr>\n",
       "      <th>4</th>\n",
       "      <td>109</td>\n",
       "      <td>Adam and Evelyne</td>\n",
       "      <td>1949.0</td>\n",
       "      <td>Comedy</td>\n",
       "      <td>92.0</td>\n",
       "      <td>Great Britain</td>\n",
       "      <td>Harold French</td>\n",
       "      <td>1.0</td>\n",
       "      <td>2.0</td>\n",
       "      <td>1.0</td>\n",
       "      <td>0.0</td>\n",
       "      <td>6.0</td>\n",
       "      <td>11.0</td>\n",
       "    </tr>\n",
       "  </tbody>\n",
       "</table>\n",
       "</div>"
      ],
      "text/plain": [
       "    id               movie    year      genre  duration        country  \\\n",
       "0   71      Charlie Muffin  1979.0        Spy     109.0  Great Britain   \n",
       "1   78  Absolute Beginners  1986.0    Musical     100.0  Great Britain   \n",
       "2   94     Arrêt sur image  1987.0      Drama      77.0         France   \n",
       "3   97               Water  1985.0  Grotesque      97.0  Great Britain   \n",
       "4  109    Adam and Evelyne  1949.0     Comedy      92.0  Great Britain   \n",
       "\n",
       "          director  humor  rhythm  effort  tension  vote  avg_vote  \n",
       "0        Jack Gold    1.0     2.0     1.0      3.0   6.0      13.0  \n",
       "1    Julien Temple    1.0     2.0     0.0      2.0   6.0      31.0  \n",
       "2  Christine Allen    0.0     1.0     1.0      0.0   4.0       4.0  \n",
       "3     Dick Clement    2.0     3.0     0.0      1.0   6.0       5.0  \n",
       "4    Harold French    1.0     2.0     1.0      0.0   6.0      11.0  "
      ]
     },
     "execution_count": 29,
     "metadata": {},
     "output_type": "execute_result"
    }
   ],
   "source": [
    "df_movies.head()"
   ]
  },
  {
   "cell_type": "code",
   "execution_count": 30,
   "metadata": {},
   "outputs": [
    {
     "data": {
      "text/html": [
       "<div>\n",
       "<style scoped>\n",
       "    .dataframe tbody tr th:only-of-type {\n",
       "        vertical-align: middle;\n",
       "    }\n",
       "\n",
       "    .dataframe tbody tr th {\n",
       "        vertical-align: top;\n",
       "    }\n",
       "\n",
       "    .dataframe thead th {\n",
       "        text-align: right;\n",
       "    }\n",
       "</style>\n",
       "<table border=\"1\" class=\"dataframe\">\n",
       "  <thead>\n",
       "    <tr style=\"text-align: right;\">\n",
       "      <th></th>\n",
       "      <th>week</th>\n",
       "      <th>day</th>\n",
       "      <th>room</th>\n",
       "      <th>screening</th>\n",
       "      <th>movie</th>\n",
       "    </tr>\n",
       "  </thead>\n",
       "  <tbody>\n",
       "    <tr>\n",
       "      <th>0</th>\n",
       "      <td>0</td>\n",
       "      <td>0</td>\n",
       "      <td>0</td>\n",
       "      <td>0</td>\n",
       "      <td>Wallander: Skytten</td>\n",
       "    </tr>\n",
       "    <tr>\n",
       "      <th>1</th>\n",
       "      <td>0</td>\n",
       "      <td>0</td>\n",
       "      <td>0</td>\n",
       "      <td>1</td>\n",
       "      <td>Canola</td>\n",
       "    </tr>\n",
       "    <tr>\n",
       "      <th>2</th>\n",
       "      <td>0</td>\n",
       "      <td>0</td>\n",
       "      <td>0</td>\n",
       "      <td>2</td>\n",
       "      <td>Guns Akimbo</td>\n",
       "    </tr>\n",
       "    <tr>\n",
       "      <th>3</th>\n",
       "      <td>0</td>\n",
       "      <td>0</td>\n",
       "      <td>1</td>\n",
       "      <td>3</td>\n",
       "      <td>La mano de un hombre muerto</td>\n",
       "    </tr>\n",
       "    <tr>\n",
       "      <th>4</th>\n",
       "      <td>0</td>\n",
       "      <td>0</td>\n",
       "      <td>1</td>\n",
       "      <td>4</td>\n",
       "      <td>Vendetta for the Saint</td>\n",
       "    </tr>\n",
       "  </tbody>\n",
       "</table>\n",
       "</div>"
      ],
      "text/plain": [
       "   week  day  room  screening                        movie\n",
       "0     0    0     0          0           Wallander: Skytten\n",
       "1     0    0     0          1                       Canola\n",
       "2     0    0     0          2                  Guns Akimbo\n",
       "3     0    0     1          3  La mano de un hombre muerto\n",
       "4     0    0     1          4       Vendetta for the Saint"
      ]
     },
     "execution_count": 30,
     "metadata": {},
     "output_type": "execute_result"
    }
   ],
   "source": [
    "df_ps.head()"
   ]
  },
  {
   "cell_type": "code",
   "execution_count": 31,
   "metadata": {},
   "outputs": [
    {
     "name": "stdout",
     "output_type": "stream",
     "text": [
      "<class 'pandas.core.frame.DataFrame'>\n",
      "RangeIndex: 5794 entries, 0 to 5793\n",
      "Data columns (total 13 columns):\n",
      " #   Column    Non-Null Count  Dtype  \n",
      "---  ------    --------------  -----  \n",
      " 0   id        5794 non-null   object \n",
      " 1   movie     5793 non-null   object \n",
      " 2   year      5793 non-null   float64\n",
      " 3   genre     5780 non-null   object \n",
      " 4   duration  5793 non-null   float64\n",
      " 5   country   5793 non-null   object \n",
      " 6   director  5793 non-null   object \n",
      " 7   humor     5793 non-null   float64\n",
      " 8   rhythm    5793 non-null   float64\n",
      " 9   effort    5793 non-null   float64\n",
      " 10  tension   5793 non-null   float64\n",
      " 11  vote      5793 non-null   float64\n",
      " 12  avg_vote  5793 non-null   float64\n",
      "dtypes: float64(8), object(5)\n",
      "memory usage: 588.6+ KB\n",
      "<class 'pandas.core.frame.DataFrame'>\n",
      "RangeIndex: 20000 entries, 0 to 19999\n",
      "Data columns (total 5 columns):\n",
      " #   Column     Non-Null Count  Dtype \n",
      "---  ------     --------------  ----- \n",
      " 0   week       20000 non-null  int64 \n",
      " 1   day        20000 non-null  int64 \n",
      " 2   room       20000 non-null  int64 \n",
      " 3   screening  20000 non-null  int64 \n",
      " 4   movie      20000 non-null  object\n",
      "dtypes: int64(4), object(1)\n",
      "memory usage: 781.4+ KB\n"
     ]
    }
   ],
   "source": [
    "df_movies.info()\n",
    "df_ps.info()"
   ]
  },
  {
   "cell_type": "code",
   "execution_count": 32,
   "metadata": {},
   "outputs": [
    {
     "name": "stdout",
     "output_type": "stream",
     "text": [
      "<class 'pandas.core.frame.DataFrame'>\n",
      "RangeIndex: 20000 entries, 0 to 19999\n",
      "Data columns (total 5 columns):\n",
      " #   Column     Non-Null Count  Dtype \n",
      "---  ------     --------------  ----- \n",
      " 0   week       20000 non-null  int64 \n",
      " 1   day        20000 non-null  int64 \n",
      " 2   room       20000 non-null  int64 \n",
      " 3   screening  20000 non-null  int64 \n",
      " 4   movie      20000 non-null  object\n",
      "dtypes: int64(4), object(1)\n",
      "memory usage: 781.4+ KB\n"
     ]
    }
   ],
   "source": [
    "df_ps.info()"
   ]
  },
  {
   "cell_type": "markdown",
   "metadata": {},
   "source": [
    "## Clean the Data"
   ]
  },
  {
   "cell_type": "markdown",
   "metadata": {},
   "source": [
    "##### Détection d observations identiques : code "
   ]
  },
  {
   "cell_type": "code",
   "execution_count": 33,
   "metadata": {},
   "outputs": [],
   "source": [
    "dp_movie = df_movies.duplicated()\n",
    "dp_ps = df_ps.duplicated()"
   ]
  },
  {
   "cell_type": "code",
   "execution_count": 34,
   "metadata": {},
   "outputs": [
    {
     "data": {
      "text/plain": [
       "np.False_"
      ]
     },
     "execution_count": 34,
     "metadata": {},
     "output_type": "execute_result"
    }
   ],
   "source": [
    "dp_movie.any() # no duplicates"
   ]
  },
  {
   "cell_type": "code",
   "execution_count": 35,
   "metadata": {},
   "outputs": [
    {
     "data": {
      "text/plain": [
       "np.False_"
      ]
     },
     "execution_count": 35,
     "metadata": {},
     "output_type": "execute_result"
    }
   ],
   "source": [
    "dp_ps.any() #no duplicates"
   ]
  },
  {
   "cell_type": "code",
   "execution_count": 36,
   "metadata": {},
   "outputs": [
    {
     "data": {
      "text/html": [
       "<div>\n",
       "<style scoped>\n",
       "    .dataframe tbody tr th:only-of-type {\n",
       "        vertical-align: middle;\n",
       "    }\n",
       "\n",
       "    .dataframe tbody tr th {\n",
       "        vertical-align: top;\n",
       "    }\n",
       "\n",
       "    .dataframe thead th {\n",
       "        text-align: right;\n",
       "    }\n",
       "</style>\n",
       "<table border=\"1\" class=\"dataframe\">\n",
       "  <thead>\n",
       "    <tr style=\"text-align: right;\">\n",
       "      <th></th>\n",
       "      <th>week</th>\n",
       "      <th>day</th>\n",
       "      <th>room</th>\n",
       "      <th>screening</th>\n",
       "      <th>movie</th>\n",
       "    </tr>\n",
       "  </thead>\n",
       "  <tbody>\n",
       "  </tbody>\n",
       "</table>\n",
       "</div>"
      ],
      "text/plain": [
       "Empty DataFrame\n",
       "Columns: [week, day, room, screening, movie]\n",
       "Index: []"
      ]
     },
     "execution_count": 36,
     "metadata": {},
     "output_type": "execute_result"
    }
   ],
   "source": [
    "df_movies[dp_movie] #no duplicates\n",
    "df_ps[dp_ps] #no duplicates"
   ]
  },
  {
   "cell_type": "markdown",
   "metadata": {},
   "source": [
    "##### Vérifier les valeurs manquantes"
   ]
  },
  {
   "cell_type": "code",
   "execution_count": 37,
   "metadata": {},
   "outputs": [
    {
     "data": {
      "text/plain": [
       "id           0\n",
       "movie        1\n",
       "year         1\n",
       "genre       14\n",
       "duration     1\n",
       "country      1\n",
       "director     1\n",
       "humor        1\n",
       "rhythm       1\n",
       "effort       1\n",
       "tension      1\n",
       "vote         1\n",
       "avg_vote     1\n",
       "dtype: int64"
      ]
     },
     "execution_count": 37,
     "metadata": {},
     "output_type": "execute_result"
    }
   ],
   "source": [
    "df_movies.isnull().sum() "
   ]
  },
  {
   "cell_type": "code",
   "execution_count": 38,
   "metadata": {},
   "outputs": [
    {
     "data": {
      "text/plain": [
       "week         0\n",
       "day          0\n",
       "room         0\n",
       "screening    0\n",
       "movie        0\n",
       "dtype: int64"
      ]
     },
     "execution_count": 38,
     "metadata": {},
     "output_type": "execute_result"
    }
   ],
   "source": [
    "df_ps.isnull().sum()"
   ]
  },
  {
   "cell_type": "code",
   "execution_count": 39,
   "metadata": {},
   "outputs": [
    {
     "data": {
      "text/html": [
       "<div>\n",
       "<style scoped>\n",
       "    .dataframe tbody tr th:only-of-type {\n",
       "        vertical-align: middle;\n",
       "    }\n",
       "\n",
       "    .dataframe tbody tr th {\n",
       "        vertical-align: top;\n",
       "    }\n",
       "\n",
       "    .dataframe thead th {\n",
       "        text-align: right;\n",
       "    }\n",
       "</style>\n",
       "<table border=\"1\" class=\"dataframe\">\n",
       "  <thead>\n",
       "    <tr style=\"text-align: right;\">\n",
       "      <th></th>\n",
       "      <th>id</th>\n",
       "      <th>movie</th>\n",
       "      <th>year</th>\n",
       "      <th>genre</th>\n",
       "      <th>duration</th>\n",
       "      <th>country</th>\n",
       "      <th>director</th>\n",
       "      <th>humor</th>\n",
       "      <th>rhythm</th>\n",
       "      <th>effort</th>\n",
       "      <th>tension</th>\n",
       "      <th>vote</th>\n",
       "      <th>avg_vote</th>\n",
       "    </tr>\n",
       "  </thead>\n",
       "  <tbody>\n",
       "    <tr>\n",
       "      <th>1745</th>\n",
       "      <td>23892</td>\n",
       "      <td>Monsieur Batignole</td>\n",
       "      <td>2002.0</td>\n",
       "      <td>NaN</td>\n",
       "      <td>100.0</td>\n",
       "      <td>France</td>\n",
       "      <td>Gérard Jugnot</td>\n",
       "      <td>2.0</td>\n",
       "      <td>3.0</td>\n",
       "      <td>4.0</td>\n",
       "      <td>3.0</td>\n",
       "      <td>7.0</td>\n",
       "      <td>37.0</td>\n",
       "    </tr>\n",
       "    <tr>\n",
       "      <th>1793</th>\n",
       "      <td>24792</td>\n",
       "      <td>Bord de mer</td>\n",
       "      <td>2002.0</td>\n",
       "      <td>NaN</td>\n",
       "      <td>90.0</td>\n",
       "      <td>France</td>\n",
       "      <td>Julie Lopes-Curval</td>\n",
       "      <td>3.0</td>\n",
       "      <td>3.0</td>\n",
       "      <td>2.0</td>\n",
       "      <td>2.0</td>\n",
       "      <td>6.0</td>\n",
       "      <td>11.0</td>\n",
       "    </tr>\n",
       "    <tr>\n",
       "      <th>2502</th>\n",
       "      <td>36267</td>\n",
       "      <td>Pumhaeng zero</td>\n",
       "      <td>2002.0</td>\n",
       "      <td>NaN</td>\n",
       "      <td>99.0</td>\n",
       "      <td>South Korea</td>\n",
       "      <td>Jo Geun-shik</td>\n",
       "      <td>1.0</td>\n",
       "      <td>2.0</td>\n",
       "      <td>1.0</td>\n",
       "      <td>1.0</td>\n",
       "      <td>6.0</td>\n",
       "      <td>3.0</td>\n",
       "    </tr>\n",
       "    <tr>\n",
       "      <th>2563</th>\n",
       "      <td>37261</td>\n",
       "      <td>En la ciudad de Sylvia</td>\n",
       "      <td>2007.0</td>\n",
       "      <td>NaN</td>\n",
       "      <td>90.0</td>\n",
       "      <td>Spain</td>\n",
       "      <td>José Luis Guerín</td>\n",
       "      <td>0.0</td>\n",
       "      <td>0.0</td>\n",
       "      <td>0.0</td>\n",
       "      <td>0.0</td>\n",
       "      <td>3.0</td>\n",
       "      <td>4.0</td>\n",
       "    </tr>\n",
       "    <tr>\n",
       "      <th>2586</th>\n",
       "      <td>37724</td>\n",
       "      <td>A vot' bon coeur</td>\n",
       "      <td>2004.0</td>\n",
       "      <td>NaN</td>\n",
       "      <td>93.0</td>\n",
       "      <td>France</td>\n",
       "      <td>Paul Vecchiali</td>\n",
       "      <td>2.0</td>\n",
       "      <td>2.0</td>\n",
       "      <td>1.0</td>\n",
       "      <td>2.0</td>\n",
       "      <td>6.0</td>\n",
       "      <td>8.0</td>\n",
       "    </tr>\n",
       "    <tr>\n",
       "      <th>2652</th>\n",
       "      <td>38479</td>\n",
       "      <td>De la guerre</td>\n",
       "      <td>2007.0</td>\n",
       "      <td>NaN</td>\n",
       "      <td>130.0</td>\n",
       "      <td>France</td>\n",
       "      <td>Bertrand Bonello</td>\n",
       "      <td>2.0</td>\n",
       "      <td>2.0</td>\n",
       "      <td>3.0</td>\n",
       "      <td>2.0</td>\n",
       "      <td>7.0</td>\n",
       "      <td>13.0</td>\n",
       "    </tr>\n",
       "    <tr>\n",
       "      <th>2781</th>\n",
       "      <td>40007</td>\n",
       "      <td>Ander</td>\n",
       "      <td>2009.0</td>\n",
       "      <td>NaN</td>\n",
       "      <td>128.0</td>\n",
       "      <td>Spain</td>\n",
       "      <td>Roberto Castón</td>\n",
       "      <td>0.0</td>\n",
       "      <td>0.0</td>\n",
       "      <td>0.0</td>\n",
       "      <td>0.0</td>\n",
       "      <td>7.0</td>\n",
       "      <td>14.0</td>\n",
       "    </tr>\n",
       "    <tr>\n",
       "      <th>2902</th>\n",
       "      <td>41265</td>\n",
       "      <td>Bancs publics (Versailles rive droite)</td>\n",
       "      <td>2009.0</td>\n",
       "      <td>NaN</td>\n",
       "      <td>110.0</td>\n",
       "      <td>France</td>\n",
       "      <td>Bruno Podalydès</td>\n",
       "      <td>0.0</td>\n",
       "      <td>0.0</td>\n",
       "      <td>0.0</td>\n",
       "      <td>0.0</td>\n",
       "      <td>6.0</td>\n",
       "      <td>3.0</td>\n",
       "    </tr>\n",
       "    <tr>\n",
       "      <th>2973</th>\n",
       "      <td>42145</td>\n",
       "      <td>L'arroseur arrosé</td>\n",
       "      <td>1897.0</td>\n",
       "      <td>NaN</td>\n",
       "      <td>49.0</td>\n",
       "      <td>France</td>\n",
       "      <td>Alice Guy</td>\n",
       "      <td>0.0</td>\n",
       "      <td>0.0</td>\n",
       "      <td>0.0</td>\n",
       "      <td>0.0</td>\n",
       "      <td>6.0</td>\n",
       "      <td>12.0</td>\n",
       "    </tr>\n",
       "    <tr>\n",
       "      <th>3017</th>\n",
       "      <td>42646</td>\n",
       "      <td>Histoire(s) du cinéma: Une histoire seule</td>\n",
       "      <td>1989.0</td>\n",
       "      <td>NaN</td>\n",
       "      <td>42.0</td>\n",
       "      <td>France</td>\n",
       "      <td>Jean-Luc Godard</td>\n",
       "      <td>0.0</td>\n",
       "      <td>0.0</td>\n",
       "      <td>0.0</td>\n",
       "      <td>0.0</td>\n",
       "      <td>8.0</td>\n",
       "      <td>7.0</td>\n",
       "    </tr>\n",
       "    <tr>\n",
       "      <th>3083</th>\n",
       "      <td>43546</td>\n",
       "      <td>Snabba Cash</td>\n",
       "      <td>2010.0</td>\n",
       "      <td>NaN</td>\n",
       "      <td>124.0</td>\n",
       "      <td>Sweden</td>\n",
       "      <td>Daniel Espinosa</td>\n",
       "      <td>0.0</td>\n",
       "      <td>0.0</td>\n",
       "      <td>0.0</td>\n",
       "      <td>0.0</td>\n",
       "      <td>5.0</td>\n",
       "      <td>4.0</td>\n",
       "    </tr>\n",
       "    <tr>\n",
       "      <th>3120</th>\n",
       "      <td>43940</td>\n",
       "      <td>Almanya - Willkommen in Deutschland</td>\n",
       "      <td>2011.0</td>\n",
       "      <td>NaN</td>\n",
       "      <td>97.0</td>\n",
       "      <td>Germany</td>\n",
       "      <td>Yasemin Samdereli</td>\n",
       "      <td>3.0</td>\n",
       "      <td>3.0</td>\n",
       "      <td>3.0</td>\n",
       "      <td>2.0</td>\n",
       "      <td>6.0</td>\n",
       "      <td>51.0</td>\n",
       "    </tr>\n",
       "    <tr>\n",
       "      <th>3361</th>\n",
       "      <td>49576,\"\"\"Sherlock\"\" The Great Game\",2010,Thril...</td>\n",
       "      <td>NaN</td>\n",
       "      <td>NaN</td>\n",
       "      <td>NaN</td>\n",
       "      <td>NaN</td>\n",
       "      <td>NaN</td>\n",
       "      <td>NaN</td>\n",
       "      <td>NaN</td>\n",
       "      <td>NaN</td>\n",
       "      <td>NaN</td>\n",
       "      <td>NaN</td>\n",
       "      <td>NaN</td>\n",
       "      <td>NaN</td>\n",
       "    </tr>\n",
       "    <tr>\n",
       "      <th>5267</th>\n",
       "      <td>175367</td>\n",
       "      <td>House of Whipcord</td>\n",
       "      <td>1974.0</td>\n",
       "      <td>NaN</td>\n",
       "      <td>102.0</td>\n",
       "      <td>Great Britain</td>\n",
       "      <td>Pete Walker</td>\n",
       "      <td>0.0</td>\n",
       "      <td>0.0</td>\n",
       "      <td>0.0</td>\n",
       "      <td>0.0</td>\n",
       "      <td>7.0</td>\n",
       "      <td>3.0</td>\n",
       "    </tr>\n",
       "  </tbody>\n",
       "</table>\n",
       "</div>"
      ],
      "text/plain": [
       "                                                     id  \\\n",
       "1745                                              23892   \n",
       "1793                                              24792   \n",
       "2502                                              36267   \n",
       "2563                                              37261   \n",
       "2586                                              37724   \n",
       "2652                                              38479   \n",
       "2781                                              40007   \n",
       "2902                                              41265   \n",
       "2973                                              42145   \n",
       "3017                                              42646   \n",
       "3083                                              43546   \n",
       "3120                                              43940   \n",
       "3361  49576,\"\"\"Sherlock\"\" The Great Game\",2010,Thril...   \n",
       "5267                                             175367   \n",
       "\n",
       "                                           movie    year genre  duration  \\\n",
       "1745                          Monsieur Batignole  2002.0   NaN     100.0   \n",
       "1793                                 Bord de mer  2002.0   NaN      90.0   \n",
       "2502                               Pumhaeng zero  2002.0   NaN      99.0   \n",
       "2563                      En la ciudad de Sylvia  2007.0   NaN      90.0   \n",
       "2586                            A vot' bon coeur  2004.0   NaN      93.0   \n",
       "2652                                De la guerre  2007.0   NaN     130.0   \n",
       "2781                                       Ander  2009.0   NaN     128.0   \n",
       "2902      Bancs publics (Versailles rive droite)  2009.0   NaN     110.0   \n",
       "2973                           L'arroseur arrosé  1897.0   NaN      49.0   \n",
       "3017  Histoire(s) du cinéma: Une histoire seule   1989.0   NaN      42.0   \n",
       "3083                                Snabba Cash   2010.0   NaN     124.0   \n",
       "3120         Almanya - Willkommen in Deutschland  2011.0   NaN      97.0   \n",
       "3361                                         NaN     NaN   NaN       NaN   \n",
       "5267                           House of Whipcord  1974.0   NaN     102.0   \n",
       "\n",
       "            country            director  humor  rhythm  effort  tension  vote  \\\n",
       "1745         France       Gérard Jugnot    2.0     3.0     4.0      3.0   7.0   \n",
       "1793         France  Julie Lopes-Curval    3.0     3.0     2.0      2.0   6.0   \n",
       "2502    South Korea        Jo Geun-shik    1.0     2.0     1.0      1.0   6.0   \n",
       "2563          Spain    José Luis Guerín    0.0     0.0     0.0      0.0   3.0   \n",
       "2586         France      Paul Vecchiali    2.0     2.0     1.0      2.0   6.0   \n",
       "2652         France    Bertrand Bonello    2.0     2.0     3.0      2.0   7.0   \n",
       "2781          Spain      Roberto Castón    0.0     0.0     0.0      0.0   7.0   \n",
       "2902         France     Bruno Podalydès    0.0     0.0     0.0      0.0   6.0   \n",
       "2973         France           Alice Guy    0.0     0.0     0.0      0.0   6.0   \n",
       "3017         France     Jean-Luc Godard    0.0     0.0     0.0      0.0   8.0   \n",
       "3083         Sweden     Daniel Espinosa    0.0     0.0     0.0      0.0   5.0   \n",
       "3120        Germany   Yasemin Samdereli    3.0     3.0     3.0      2.0   6.0   \n",
       "3361            NaN                 NaN    NaN     NaN     NaN      NaN   NaN   \n",
       "5267  Great Britain         Pete Walker    0.0     0.0     0.0      0.0   7.0   \n",
       "\n",
       "      avg_vote  \n",
       "1745      37.0  \n",
       "1793      11.0  \n",
       "2502       3.0  \n",
       "2563       4.0  \n",
       "2586       8.0  \n",
       "2652      13.0  \n",
       "2781      14.0  \n",
       "2902       3.0  \n",
       "2973      12.0  \n",
       "3017       7.0  \n",
       "3083       4.0  \n",
       "3120      51.0  \n",
       "3361       NaN  \n",
       "5267       3.0  "
      ]
     },
     "execution_count": 39,
     "metadata": {},
     "output_type": "execute_result"
    }
   ],
   "source": [
    "missing_rows = df_movies[df_movies.isnull().any(axis=1)]\n",
    "missing_rows"
   ]
  },
  {
   "cell_type": "code",
   "execution_count": 40,
   "metadata": {},
   "outputs": [
    {
     "data": {
      "text/plain": [
       "id                       23892\n",
       "movie       Monsieur Batignole\n",
       "year                    2002.0\n",
       "genre                   Comedy\n",
       "duration                 100.0\n",
       "country                 France\n",
       "director         Gérard Jugnot\n",
       "humor                      2.0\n",
       "rhythm                     3.0\n",
       "effort                     4.0\n",
       "tension                    3.0\n",
       "vote                       7.0\n",
       "avg_vote                  37.0\n",
       "Name: 1745, dtype: object"
      ]
     },
     "execution_count": 40,
     "metadata": {},
     "output_type": "execute_result"
    }
   ],
   "source": [
    "df_movies.loc[1745, 'genre'] = \"Comedy\"\n",
    "df_movies.loc[1745]"
   ]
  },
  {
   "cell_type": "code",
   "execution_count": 41,
   "metadata": {},
   "outputs": [
    {
     "data": {
      "text/plain": [
       "id                       24792\n",
       "movie              Bord de mer\n",
       "year                    2002.0\n",
       "genre                    Drama\n",
       "duration                  90.0\n",
       "country                 France\n",
       "director    Julie Lopes-Curval\n",
       "humor                      3.0\n",
       "rhythm                     3.0\n",
       "effort                     2.0\n",
       "tension                    2.0\n",
       "vote                       6.0\n",
       "avg_vote                  11.0\n",
       "Name: 1793, dtype: object"
      ]
     },
     "execution_count": 41,
     "metadata": {},
     "output_type": "execute_result"
    }
   ],
   "source": [
    "df_movies.loc[1793, 'genre'] = \"Drama\"\n",
    "df_movies.loc[1793]"
   ]
  },
  {
   "cell_type": "code",
   "execution_count": 43,
   "metadata": {},
   "outputs": [
    {
     "data": {
      "text/plain": [
       "id                  36267\n",
       "movie       Pumhaeng zero\n",
       "year               2002.0\n",
       "genre              Comedy\n",
       "duration             99.0\n",
       "country       South Korea\n",
       "director     Jo Geun-shik\n",
       "humor                 1.0\n",
       "rhythm                2.0\n",
       "effort                1.0\n",
       "tension               1.0\n",
       "vote                  6.0\n",
       "avg_vote              3.0\n",
       "Name: 2502, dtype: object"
      ]
     },
     "execution_count": 43,
     "metadata": {},
     "output_type": "execute_result"
    }
   ],
   "source": [
    "df_movies.loc[2502, 'genre'] = \"Comedy\"\n",
    "df_movies.loc[2502]"
   ]
  },
  {
   "cell_type": "code",
   "execution_count": 44,
   "metadata": {},
   "outputs": [
    {
     "name": "stdout",
     "output_type": "stream",
     "text": [
      "Index(['id', 'movie', 'year', 'genre', 'duration', 'country', 'director',\n",
      "       'humor', 'rhythm', 'effort', 'tension', 'vote', 'avg_vote'],\n",
      "      dtype='object')\n"
     ]
    }
   ],
   "source": [
    "# Afficher les colonnes du DataFrame\n",
    "print(df_movies.columns)"
   ]
  },
  {
   "cell_type": "code",
   "execution_count": 45,
   "metadata": {},
   "outputs": [
    {
     "name": "stdout",
     "output_type": "stream",
     "text": [
      "Column 'date' does not exist in the dataframe.\n"
     ]
    }
   ],
   "source": [
    "if 'date' in df_movies.columns:\n",
    "\tdf_movies = df_movies.drop('date', axis=1)\n",
    "else:\n",
    "\tprint(\"Column 'date' does not exist in the dataframe.\")"
   ]
  },
  {
   "cell_type": "code",
   "execution_count": 49,
   "metadata": {},
   "outputs": [
    {
     "data": {
      "text/plain": [
       "id                  36267\n",
       "movie       Pumhaeng zero\n",
       "year               2002.0\n",
       "genre              Comedy\n",
       "duration             99.0\n",
       "country       South Korea\n",
       "director     Jo Geun-shik\n",
       "humor                 1.0\n",
       "rhythm                2.0\n",
       "effort                1.0\n",
       "tension               1.0\n",
       "vote                  6.0\n",
       "avg_vote              3.0\n",
       "Name: 2502, dtype: object"
      ]
     },
     "execution_count": 49,
     "metadata": {},
     "output_type": "execute_result"
    }
   ],
   "source": [
    "df_movies.loc[2502]"
   ]
  },
  {
   "cell_type": "code",
   "execution_count": 50,
   "metadata": {},
   "outputs": [
    {
     "data": {
      "text/plain": [
       "id                           37261\n",
       "movie       En la ciudad de Sylvia\n",
       "year                        2007.0\n",
       "genre                        Drama\n",
       "duration                      90.0\n",
       "country                      Spain\n",
       "director          José Luis Guerín\n",
       "humor                          0.0\n",
       "rhythm                         0.0\n",
       "effort                         0.0\n",
       "tension                        0.0\n",
       "vote                           3.0\n",
       "avg_vote                       4.0\n",
       "Name: 2563, dtype: object"
      ]
     },
     "execution_count": 50,
     "metadata": {},
     "output_type": "execute_result"
    }
   ],
   "source": [
    "df_movies.loc[2563, 'genre'] = \"Drama\"\n",
    "df_movies.loc[2563]"
   ]
  },
  {
   "cell_type": "code",
   "execution_count": 51,
   "metadata": {},
   "outputs": [
    {
     "data": {
      "text/plain": [
       "id                     37724\n",
       "movie       A vot' bon coeur\n",
       "year                  2004.0\n",
       "genre                 Comedy\n",
       "duration                93.0\n",
       "country               France\n",
       "director      Paul Vecchiali\n",
       "humor                    2.0\n",
       "rhythm                   2.0\n",
       "effort                   1.0\n",
       "tension                  2.0\n",
       "vote                     6.0\n",
       "avg_vote                 8.0\n",
       "Name: 2586, dtype: object"
      ]
     },
     "execution_count": 51,
     "metadata": {},
     "output_type": "execute_result"
    }
   ],
   "source": [
    "df_movies.loc[2586, 'genre'] = \"Comedy\"\n",
    "df_movies.loc[2586]"
   ]
  },
  {
   "cell_type": "code",
   "execution_count": 52,
   "metadata": {},
   "outputs": [
    {
     "data": {
      "text/plain": [
       "id                     38479\n",
       "movie           De la guerre\n",
       "year                  2007.0\n",
       "genre                  Drama\n",
       "duration               130.0\n",
       "country               France\n",
       "director    Bertrand Bonello\n",
       "humor                    2.0\n",
       "rhythm                   2.0\n",
       "effort                   3.0\n",
       "tension                  2.0\n",
       "vote                     7.0\n",
       "avg_vote                13.0\n",
       "Name: 2652, dtype: object"
      ]
     },
     "execution_count": 52,
     "metadata": {},
     "output_type": "execute_result"
    }
   ],
   "source": [
    "df_movies.loc[2652, 'genre'] = \"Drama\"\n",
    "df_movies.loc[2652]\t"
   ]
  },
  {
   "cell_type": "code",
   "execution_count": 53,
   "metadata": {},
   "outputs": [
    {
     "data": {
      "text/plain": [
       "id                   40007\n",
       "movie                Ander\n",
       "year                2009.0\n",
       "genre                Drama\n",
       "duration             128.0\n",
       "country              Spain\n",
       "director    Roberto Castón\n",
       "humor                  0.0\n",
       "rhythm                 0.0\n",
       "effort                 0.0\n",
       "tension                0.0\n",
       "vote                   7.0\n",
       "avg_vote              14.0\n",
       "Name: 2781, dtype: object"
      ]
     },
     "execution_count": 53,
     "metadata": {},
     "output_type": "execute_result"
    }
   ],
   "source": [
    "df_movies.loc[2781, 'genre'] = \"Drama\"\n",
    "df_movies.loc[2781]\t"
   ]
  },
  {
   "cell_type": "code",
   "execution_count": 54,
   "metadata": {},
   "outputs": [
    {
     "data": {
      "text/plain": [
       "id                                           41265\n",
       "movie       Bancs publics (Versailles rive droite)\n",
       "year                                        2009.0\n",
       "genre                                        Drama\n",
       "duration                                     110.0\n",
       "country                                     France\n",
       "director                           Bruno Podalydès\n",
       "humor                                          0.0\n",
       "rhythm                                         0.0\n",
       "effort                                         0.0\n",
       "tension                                        0.0\n",
       "vote                                           6.0\n",
       "avg_vote                                       3.0\n",
       "Name: 2902, dtype: object"
      ]
     },
     "execution_count": 54,
     "metadata": {},
     "output_type": "execute_result"
    }
   ],
   "source": [
    "df_movies.loc[2902, 'genre'] = \"Drama\"\n",
    "df_movies.loc[2902]\t"
   ]
  },
  {
   "cell_type": "code",
   "execution_count": 55,
   "metadata": {},
   "outputs": [
    {
     "data": {
      "text/plain": [
       "id                      42145\n",
       "movie       L'arroseur arrosé\n",
       "year                   1897.0\n",
       "genre                  Comedy\n",
       "duration                 49.0\n",
       "country                France\n",
       "director            Alice Guy\n",
       "humor                     0.0\n",
       "rhythm                    0.0\n",
       "effort                    0.0\n",
       "tension                   0.0\n",
       "vote                      6.0\n",
       "avg_vote                 12.0\n",
       "Name: 2973, dtype: object"
      ]
     },
     "execution_count": 55,
     "metadata": {},
     "output_type": "execute_result"
    }
   ],
   "source": [
    "df_movies.loc[2973, 'genre'] = \"Comedy\"\n",
    "df_movies.loc[2973]"
   ]
  },
  {
   "cell_type": "code",
   "execution_count": 56,
   "metadata": {},
   "outputs": [
    {
     "data": {
      "text/plain": [
       "id                                               42646\n",
       "movie       Histoire(s) du cinéma: Une histoire seule \n",
       "year                                            1989.0\n",
       "genre                                      Documentary\n",
       "duration                                          42.0\n",
       "country                                         France\n",
       "director                               Jean-Luc Godard\n",
       "humor                                              0.0\n",
       "rhythm                                             0.0\n",
       "effort                                             0.0\n",
       "tension                                            0.0\n",
       "vote                                               8.0\n",
       "avg_vote                                           7.0\n",
       "Name: 3017, dtype: object"
      ]
     },
     "execution_count": 56,
     "metadata": {},
     "output_type": "execute_result"
    }
   ],
   "source": [
    "df_movies.loc[3017, 'genre'] = \"Documentary\"\n",
    "df_movies.loc[3017]"
   ]
  },
  {
   "cell_type": "code",
   "execution_count": 57,
   "metadata": {},
   "outputs": [
    {
     "data": {
      "text/plain": [
       "id                    43546\n",
       "movie          Snabba Cash \n",
       "year                 2010.0\n",
       "genre                 Crime\n",
       "duration              124.0\n",
       "country              Sweden\n",
       "director    Daniel Espinosa\n",
       "humor                   0.0\n",
       "rhythm                  0.0\n",
       "effort                  0.0\n",
       "tension                 0.0\n",
       "vote                    5.0\n",
       "avg_vote                4.0\n",
       "Name: 3083, dtype: object"
      ]
     },
     "execution_count": 57,
     "metadata": {},
     "output_type": "execute_result"
    }
   ],
   "source": [
    "df_movies.loc[3083, 'genre'] = \"Crime\"\n",
    "df_movies.loc[3083]\n"
   ]
  },
  {
   "cell_type": "code",
   "execution_count": 58,
   "metadata": {},
   "outputs": [
    {
     "data": {
      "text/plain": [
       "id                                        43940\n",
       "movie       Almanya - Willkommen in Deutschland\n",
       "year                                     2011.0\n",
       "genre                                    Comedy\n",
       "duration                                   97.0\n",
       "country                                 Germany\n",
       "director                      Yasemin Samdereli\n",
       "humor                                       3.0\n",
       "rhythm                                      3.0\n",
       "effort                                      3.0\n",
       "tension                                     2.0\n",
       "vote                                        6.0\n",
       "avg_vote                                   51.0\n",
       "Name: 3120, dtype: object"
      ]
     },
     "execution_count": 58,
     "metadata": {},
     "output_type": "execute_result"
    }
   ],
   "source": [
    "df_movies.loc[3120, 'genre'] = \"Comedy\"\n",
    "df_movies.loc[3120]"
   ]
  },
  {
   "cell_type": "code",
   "execution_count": 59,
   "metadata": {},
   "outputs": [
    {
     "data": {
      "text/plain": [
       "id                     175367\n",
       "movie       House of Whipcord\n",
       "year                   1974.0\n",
       "genre                Thriller\n",
       "duration                102.0\n",
       "country         Great Britain\n",
       "director          Pete Walker\n",
       "humor                     0.0\n",
       "rhythm                    0.0\n",
       "effort                    0.0\n",
       "tension                   0.0\n",
       "vote                      7.0\n",
       "avg_vote                  3.0\n",
       "Name: 5267, dtype: object"
      ]
     },
     "execution_count": 59,
     "metadata": {},
     "output_type": "execute_result"
    }
   ],
   "source": [
    "df_movies.loc[5267, 'genre'] = \"Thriller\"\n",
    "df_movies.loc[5267]"
   ]
  },
  {
   "cell_type": "code",
   "execution_count": 61,
   "metadata": {},
   "outputs": [
    {
     "data": {
      "text/plain": [
       "id          0\n",
       "movie       1\n",
       "year        1\n",
       "genre       1\n",
       "duration    1\n",
       "country     1\n",
       "director    1\n",
       "humor       1\n",
       "rhythm      1\n",
       "effort      1\n",
       "tension     1\n",
       "vote        1\n",
       "avg_vote    1\n",
       "dtype: int64"
      ]
     },
     "execution_count": 61,
     "metadata": {},
     "output_type": "execute_result"
    }
   ],
   "source": [
    "df_movies.isnull().sum() "
   ]
  },
  {
   "cell_type": "code",
   "execution_count": 62,
   "metadata": {},
   "outputs": [
    {
     "data": {
      "text/html": [
       "<div>\n",
       "<style scoped>\n",
       "    .dataframe tbody tr th:only-of-type {\n",
       "        vertical-align: middle;\n",
       "    }\n",
       "\n",
       "    .dataframe tbody tr th {\n",
       "        vertical-align: top;\n",
       "    }\n",
       "\n",
       "    .dataframe thead th {\n",
       "        text-align: right;\n",
       "    }\n",
       "</style>\n",
       "<table border=\"1\" class=\"dataframe\">\n",
       "  <thead>\n",
       "    <tr style=\"text-align: right;\">\n",
       "      <th></th>\n",
       "      <th>id</th>\n",
       "      <th>movie</th>\n",
       "      <th>year</th>\n",
       "      <th>genre</th>\n",
       "      <th>duration</th>\n",
       "      <th>country</th>\n",
       "      <th>director</th>\n",
       "      <th>humor</th>\n",
       "      <th>rhythm</th>\n",
       "      <th>effort</th>\n",
       "      <th>tension</th>\n",
       "      <th>vote</th>\n",
       "      <th>avg_vote</th>\n",
       "    </tr>\n",
       "  </thead>\n",
       "  <tbody>\n",
       "    <tr>\n",
       "      <th>3361</th>\n",
       "      <td>49576,\"\"\"Sherlock\"\" The Great Game\",2010,Thril...</td>\n",
       "      <td>NaN</td>\n",
       "      <td>NaN</td>\n",
       "      <td>NaN</td>\n",
       "      <td>NaN</td>\n",
       "      <td>NaN</td>\n",
       "      <td>NaN</td>\n",
       "      <td>NaN</td>\n",
       "      <td>NaN</td>\n",
       "      <td>NaN</td>\n",
       "      <td>NaN</td>\n",
       "      <td>NaN</td>\n",
       "      <td>NaN</td>\n",
       "    </tr>\n",
       "  </tbody>\n",
       "</table>\n",
       "</div>"
      ],
      "text/plain": [
       "                                                     id movie  year genre  \\\n",
       "3361  49576,\"\"\"Sherlock\"\" The Great Game\",2010,Thril...   NaN   NaN   NaN   \n",
       "\n",
       "      duration country director  humor  rhythm  effort  tension  vote  \\\n",
       "3361       NaN     NaN      NaN    NaN     NaN     NaN      NaN   NaN   \n",
       "\n",
       "      avg_vote  \n",
       "3361       NaN  "
      ]
     },
     "execution_count": 62,
     "metadata": {},
     "output_type": "execute_result"
    }
   ],
   "source": [
    "missing_rows = df_movies[df_movies.isnull().any(axis=1)]\n",
    "missing_rows"
   ]
  },
  {
   "cell_type": "markdown",
   "metadata": {},
   "source": [
    "##### Supprimer les lignes où les colonnes critiques ont des valeurs manquantes"
   ]
  },
  {
   "cell_type": "code",
   "execution_count": 63,
   "metadata": {},
   "outputs": [],
   "source": [
    "df_movies_cleaned = df_movies.dropna()"
   ]
  },
  {
   "cell_type": "code",
   "execution_count": 64,
   "metadata": {},
   "outputs": [
    {
     "data": {
      "text/plain": [
       "5793"
      ]
     },
     "execution_count": 64,
     "metadata": {},
     "output_type": "execute_result"
    }
   ],
   "source": [
    "len(df_movies_cleaned)"
   ]
  },
  {
   "cell_type": "markdown",
   "metadata": {},
   "source": [
    "On est passé de 5794 lignes à 5793 lignes (5796 - 1).\n",
    "Cela représente une perte de 0,01726 % des données, ce qui est négligeable dans la plupart des cas."
   ]
  },
  {
   "cell_type": "code",
   "execution_count": null,
   "metadata": {},
   "outputs": [],
   "source": []
  }
 ],
 "metadata": {
  "kernelspec": {
   "display_name": "env",
   "language": "python",
   "name": "python3"
  },
  "language_info": {
   "codemirror_mode": {
    "name": "ipython",
    "version": 3
   },
   "file_extension": ".py",
   "mimetype": "text/x-python",
   "name": "python",
   "nbconvert_exporter": "python",
   "pygments_lexer": "ipython3",
   "version": "3.13.1"
  }
 },
 "nbformat": 4,
 "nbformat_minor": 2
}
